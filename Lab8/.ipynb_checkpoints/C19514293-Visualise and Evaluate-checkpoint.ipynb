{
 "cells": [
  {
   "cell_type": "code",
   "execution_count": 1,
   "id": "cfdc76ca",
   "metadata": {},
   "outputs": [
    {
     "name": "stderr",
     "output_type": "stream",
     "text": [
      "── \u001b[1mAttaching packages\u001b[22m ─────────────────────────────────────────────────────────────────────────────── tidyverse 1.3.2 ──\n",
      "\u001b[32m✔\u001b[39m \u001b[34mggplot2\u001b[39m 3.4.0     \u001b[32m✔\u001b[39m \u001b[34mpurrr  \u001b[39m 1.0.1\n",
      "\u001b[32m✔\u001b[39m \u001b[34mtibble \u001b[39m 3.1.8     \u001b[32m✔\u001b[39m \u001b[34mdplyr  \u001b[39m 1.1.0\n",
      "\u001b[32m✔\u001b[39m \u001b[34mtidyr  \u001b[39m 1.3.0     \u001b[32m✔\u001b[39m \u001b[34mstringr\u001b[39m 1.5.0\n",
      "\u001b[32m✔\u001b[39m \u001b[34mreadr  \u001b[39m 2.1.3     \u001b[32m✔\u001b[39m \u001b[34mforcats\u001b[39m 1.0.0\n",
      "── \u001b[1mConflicts\u001b[22m ────────────────────────────────────────────────────────────────────────────────── tidyverse_conflicts() ──\n",
      "\u001b[31m✖\u001b[39m \u001b[34mdplyr\u001b[39m::\u001b[32mfilter()\u001b[39m masks \u001b[34mstats\u001b[39m::filter()\n",
      "\u001b[31m✖\u001b[39m \u001b[34mdplyr\u001b[39m::\u001b[32mlag()\u001b[39m    masks \u001b[34mstats\u001b[39m::lag()\n"
     ]
    }
   ],
   "source": [
    "library(tidyverse)"
   ]
  },
  {
   "cell_type": "code",
   "execution_count": 2,
   "id": "a2b8b200",
   "metadata": {},
   "outputs": [],
   "source": [
    "mydata = file.path(\"C:\",\"Users\",\"thehd\",\"OneDrive\",\"College\",\"YEAR_4\",\"Visualizing_Data\",\"Labwork\",\"VisDataLab8\")\n",
    "datapath = file.path(mydata, \"bigtitanic.csv\")\n",
    "\n",
    "bt <- read.csv(datapath)"
   ]
  },
  {
   "cell_type": "code",
   "execution_count": 3,
   "id": "91c65494",
   "metadata": {},
   "outputs": [
    {
     "data": {
      "text/plain": [
       "     pclass         survived         name               sex           \n",
       " Min.   :1.000   Min.   :0.000   Length:1310        Length:1310       \n",
       " 1st Qu.:2.000   1st Qu.:0.000   Class :character   Class :character  \n",
       " Median :3.000   Median :0.000   Mode  :character   Mode  :character  \n",
       " Mean   :2.295   Mean   :0.382                                        \n",
       " 3rd Qu.:3.000   3rd Qu.:1.000                                        \n",
       " Max.   :3.000   Max.   :1.000                                        \n",
       " NA's   :1       NA's   :1                                            \n",
       "      age              sibsp            parch          ticket         \n",
       " Min.   : 0.1667   Min.   :0.0000   Min.   :0.000   Length:1310       \n",
       " 1st Qu.:21.0000   1st Qu.:0.0000   1st Qu.:0.000   Class :character  \n",
       " Median :28.0000   Median :0.0000   Median :0.000   Mode  :character  \n",
       " Mean   :29.8811   Mean   :0.4989   Mean   :0.385                     \n",
       " 3rd Qu.:39.0000   3rd Qu.:1.0000   3rd Qu.:0.000                     \n",
       " Max.   :80.0000   Max.   :8.0000   Max.   :9.000                     \n",
       " NA's   :264       NA's   :1        NA's   :1                         \n",
       "      fare            cabin             embarked             boat          \n",
       " Min.   :  0.000   Length:1310        Length:1310        Length:1310       \n",
       " 1st Qu.:  7.896   Class :character   Class :character   Class :character  \n",
       " Median : 14.454   Mode  :character   Mode  :character   Mode  :character  \n",
       " Mean   : 33.295                                                           \n",
       " 3rd Qu.: 31.275                                                           \n",
       " Max.   :512.329                                                           \n",
       " NA's   :2                                                                 \n",
       "      body        home.dest        \n",
       " Min.   :  1.0   Length:1310       \n",
       " 1st Qu.: 72.0   Class :character  \n",
       " Median :155.0   Mode  :character  \n",
       " Mean   :160.8                     \n",
       " 3rd Qu.:256.0                     \n",
       " Max.   :328.0                     \n",
       " NA's   :1189                      "
      ]
     },
     "metadata": {},
     "output_type": "display_data"
    }
   ],
   "source": [
    "# Pick what columns to make graph from\n",
    "summary(bt)"
   ]
  },
  {
   "cell_type": "code",
   "execution_count": 4,
   "id": "fc2946ab",
   "metadata": {},
   "outputs": [
    {
     "data": {
      "text/html": [
       "<table class=\"dataframe\">\n",
       "<caption>A data.frame: 1310 × 3</caption>\n",
       "<thead>\n",
       "\t<tr><th scope=col>pclass</th><th scope=col>survived</th><th scope=col>sex</th></tr>\n",
       "\t<tr><th scope=col>&lt;int&gt;</th><th scope=col>&lt;int&gt;</th><th scope=col>&lt;chr&gt;</th></tr>\n",
       "</thead>\n",
       "<tbody>\n",
       "\t<tr><td>1</td><td>1</td><td>female</td></tr>\n",
       "\t<tr><td>1</td><td>1</td><td>male  </td></tr>\n",
       "\t<tr><td>1</td><td>0</td><td>female</td></tr>\n",
       "\t<tr><td>1</td><td>0</td><td>male  </td></tr>\n",
       "\t<tr><td>1</td><td>0</td><td>female</td></tr>\n",
       "\t<tr><td>1</td><td>1</td><td>male  </td></tr>\n",
       "\t<tr><td>1</td><td>1</td><td>female</td></tr>\n",
       "\t<tr><td>1</td><td>0</td><td>male  </td></tr>\n",
       "\t<tr><td>1</td><td>1</td><td>female</td></tr>\n",
       "\t<tr><td>1</td><td>0</td><td>male  </td></tr>\n",
       "\t<tr><td>1</td><td>0</td><td>male  </td></tr>\n",
       "\t<tr><td>1</td><td>1</td><td>female</td></tr>\n",
       "\t<tr><td>1</td><td>1</td><td>female</td></tr>\n",
       "\t<tr><td>1</td><td>1</td><td>female</td></tr>\n",
       "\t<tr><td>1</td><td>1</td><td>male  </td></tr>\n",
       "\t<tr><td>1</td><td>0</td><td>male  </td></tr>\n",
       "\t<tr><td>1</td><td>0</td><td>male  </td></tr>\n",
       "\t<tr><td>1</td><td>1</td><td>female</td></tr>\n",
       "\t<tr><td>1</td><td>1</td><td>female</td></tr>\n",
       "\t<tr><td>1</td><td>0</td><td>male  </td></tr>\n",
       "\t<tr><td>1</td><td>1</td><td>male  </td></tr>\n",
       "\t<tr><td>1</td><td>1</td><td>female</td></tr>\n",
       "\t<tr><td>1</td><td>1</td><td>male  </td></tr>\n",
       "\t<tr><td>1</td><td>1</td><td>female</td></tr>\n",
       "\t<tr><td>1</td><td>1</td><td>female</td></tr>\n",
       "\t<tr><td>1</td><td>0</td><td>male  </td></tr>\n",
       "\t<tr><td>1</td><td>1</td><td>male  </td></tr>\n",
       "\t<tr><td>1</td><td>1</td><td>female</td></tr>\n",
       "\t<tr><td>1</td><td>1</td><td>female</td></tr>\n",
       "\t<tr><td>1</td><td>1</td><td>male  </td></tr>\n",
       "\t<tr><td>⋮</td><td>⋮</td><td>⋮</td></tr>\n",
       "\t<tr><td> 3</td><td> 0</td><td>male  </td></tr>\n",
       "\t<tr><td> 3</td><td> 0</td><td>male  </td></tr>\n",
       "\t<tr><td> 3</td><td> 0</td><td>male  </td></tr>\n",
       "\t<tr><td> 3</td><td> 0</td><td>male  </td></tr>\n",
       "\t<tr><td> 3</td><td> 0</td><td>male  </td></tr>\n",
       "\t<tr><td> 3</td><td> 0</td><td>male  </td></tr>\n",
       "\t<tr><td> 3</td><td> 1</td><td>female</td></tr>\n",
       "\t<tr><td> 3</td><td> 0</td><td>male  </td></tr>\n",
       "\t<tr><td> 3</td><td> 0</td><td>male  </td></tr>\n",
       "\t<tr><td> 3</td><td> 0</td><td>male  </td></tr>\n",
       "\t<tr><td> 3</td><td> 1</td><td>female</td></tr>\n",
       "\t<tr><td> 3</td><td> 0</td><td>male  </td></tr>\n",
       "\t<tr><td> 3</td><td> 0</td><td>male  </td></tr>\n",
       "\t<tr><td> 3</td><td> 0</td><td>male  </td></tr>\n",
       "\t<tr><td> 3</td><td> 0</td><td>male  </td></tr>\n",
       "\t<tr><td> 3</td><td> 0</td><td>male  </td></tr>\n",
       "\t<tr><td> 3</td><td> 0</td><td>male  </td></tr>\n",
       "\t<tr><td> 3</td><td> 0</td><td>male  </td></tr>\n",
       "\t<tr><td> 3</td><td> 0</td><td>male  </td></tr>\n",
       "\t<tr><td> 3</td><td> 0</td><td>male  </td></tr>\n",
       "\t<tr><td> 3</td><td> 1</td><td>female</td></tr>\n",
       "\t<tr><td> 3</td><td> 0</td><td>male  </td></tr>\n",
       "\t<tr><td> 3</td><td> 0</td><td>male  </td></tr>\n",
       "\t<tr><td> 3</td><td> 0</td><td>male  </td></tr>\n",
       "\t<tr><td> 3</td><td> 0</td><td>female</td></tr>\n",
       "\t<tr><td> 3</td><td> 0</td><td>female</td></tr>\n",
       "\t<tr><td> 3</td><td> 0</td><td>male  </td></tr>\n",
       "\t<tr><td> 3</td><td> 0</td><td>male  </td></tr>\n",
       "\t<tr><td> 3</td><td> 0</td><td>male  </td></tr>\n",
       "\t<tr><td>NA</td><td>NA</td><td>      </td></tr>\n",
       "</tbody>\n",
       "</table>\n"
      ],
      "text/latex": [
       "A data.frame: 1310 × 3\n",
       "\\begin{tabular}{lll}\n",
       " pclass & survived & sex\\\\\n",
       " <int> & <int> & <chr>\\\\\n",
       "\\hline\n",
       "\t 1 & 1 & female\\\\\n",
       "\t 1 & 1 & male  \\\\\n",
       "\t 1 & 0 & female\\\\\n",
       "\t 1 & 0 & male  \\\\\n",
       "\t 1 & 0 & female\\\\\n",
       "\t 1 & 1 & male  \\\\\n",
       "\t 1 & 1 & female\\\\\n",
       "\t 1 & 0 & male  \\\\\n",
       "\t 1 & 1 & female\\\\\n",
       "\t 1 & 0 & male  \\\\\n",
       "\t 1 & 0 & male  \\\\\n",
       "\t 1 & 1 & female\\\\\n",
       "\t 1 & 1 & female\\\\\n",
       "\t 1 & 1 & female\\\\\n",
       "\t 1 & 1 & male  \\\\\n",
       "\t 1 & 0 & male  \\\\\n",
       "\t 1 & 0 & male  \\\\\n",
       "\t 1 & 1 & female\\\\\n",
       "\t 1 & 1 & female\\\\\n",
       "\t 1 & 0 & male  \\\\\n",
       "\t 1 & 1 & male  \\\\\n",
       "\t 1 & 1 & female\\\\\n",
       "\t 1 & 1 & male  \\\\\n",
       "\t 1 & 1 & female\\\\\n",
       "\t 1 & 1 & female\\\\\n",
       "\t 1 & 0 & male  \\\\\n",
       "\t 1 & 1 & male  \\\\\n",
       "\t 1 & 1 & female\\\\\n",
       "\t 1 & 1 & female\\\\\n",
       "\t 1 & 1 & male  \\\\\n",
       "\t ⋮ & ⋮ & ⋮\\\\\n",
       "\t  3 &  0 & male  \\\\\n",
       "\t  3 &  0 & male  \\\\\n",
       "\t  3 &  0 & male  \\\\\n",
       "\t  3 &  0 & male  \\\\\n",
       "\t  3 &  0 & male  \\\\\n",
       "\t  3 &  0 & male  \\\\\n",
       "\t  3 &  1 & female\\\\\n",
       "\t  3 &  0 & male  \\\\\n",
       "\t  3 &  0 & male  \\\\\n",
       "\t  3 &  0 & male  \\\\\n",
       "\t  3 &  1 & female\\\\\n",
       "\t  3 &  0 & male  \\\\\n",
       "\t  3 &  0 & male  \\\\\n",
       "\t  3 &  0 & male  \\\\\n",
       "\t  3 &  0 & male  \\\\\n",
       "\t  3 &  0 & male  \\\\\n",
       "\t  3 &  0 & male  \\\\\n",
       "\t  3 &  0 & male  \\\\\n",
       "\t  3 &  0 & male  \\\\\n",
       "\t  3 &  0 & male  \\\\\n",
       "\t  3 &  1 & female\\\\\n",
       "\t  3 &  0 & male  \\\\\n",
       "\t  3 &  0 & male  \\\\\n",
       "\t  3 &  0 & male  \\\\\n",
       "\t  3 &  0 & female\\\\\n",
       "\t  3 &  0 & female\\\\\n",
       "\t  3 &  0 & male  \\\\\n",
       "\t  3 &  0 & male  \\\\\n",
       "\t  3 &  0 & male  \\\\\n",
       "\t NA & NA &       \\\\\n",
       "\\end{tabular}\n"
      ],
      "text/markdown": [
       "\n",
       "A data.frame: 1310 × 3\n",
       "\n",
       "| pclass &lt;int&gt; | survived &lt;int&gt; | sex &lt;chr&gt; |\n",
       "|---|---|---|\n",
       "| 1 | 1 | female |\n",
       "| 1 | 1 | male   |\n",
       "| 1 | 0 | female |\n",
       "| 1 | 0 | male   |\n",
       "| 1 | 0 | female |\n",
       "| 1 | 1 | male   |\n",
       "| 1 | 1 | female |\n",
       "| 1 | 0 | male   |\n",
       "| 1 | 1 | female |\n",
       "| 1 | 0 | male   |\n",
       "| 1 | 0 | male   |\n",
       "| 1 | 1 | female |\n",
       "| 1 | 1 | female |\n",
       "| 1 | 1 | female |\n",
       "| 1 | 1 | male   |\n",
       "| 1 | 0 | male   |\n",
       "| 1 | 0 | male   |\n",
       "| 1 | 1 | female |\n",
       "| 1 | 1 | female |\n",
       "| 1 | 0 | male   |\n",
       "| 1 | 1 | male   |\n",
       "| 1 | 1 | female |\n",
       "| 1 | 1 | male   |\n",
       "| 1 | 1 | female |\n",
       "| 1 | 1 | female |\n",
       "| 1 | 0 | male   |\n",
       "| 1 | 1 | male   |\n",
       "| 1 | 1 | female |\n",
       "| 1 | 1 | female |\n",
       "| 1 | 1 | male   |\n",
       "| ⋮ | ⋮ | ⋮ |\n",
       "|  3 |  0 | male   |\n",
       "|  3 |  0 | male   |\n",
       "|  3 |  0 | male   |\n",
       "|  3 |  0 | male   |\n",
       "|  3 |  0 | male   |\n",
       "|  3 |  0 | male   |\n",
       "|  3 |  1 | female |\n",
       "|  3 |  0 | male   |\n",
       "|  3 |  0 | male   |\n",
       "|  3 |  0 | male   |\n",
       "|  3 |  1 | female |\n",
       "|  3 |  0 | male   |\n",
       "|  3 |  0 | male   |\n",
       "|  3 |  0 | male   |\n",
       "|  3 |  0 | male   |\n",
       "|  3 |  0 | male   |\n",
       "|  3 |  0 | male   |\n",
       "|  3 |  0 | male   |\n",
       "|  3 |  0 | male   |\n",
       "|  3 |  0 | male   |\n",
       "|  3 |  1 | female |\n",
       "|  3 |  0 | male   |\n",
       "|  3 |  0 | male   |\n",
       "|  3 |  0 | male   |\n",
       "|  3 |  0 | female |\n",
       "|  3 |  0 | female |\n",
       "|  3 |  0 | male   |\n",
       "|  3 |  0 | male   |\n",
       "|  3 |  0 | male   |\n",
       "| NA | NA | <!----> |\n",
       "\n"
      ],
      "text/plain": [
       "     pclass survived sex   \n",
       "1    1      1        female\n",
       "2    1      1        male  \n",
       "3    1      0        female\n",
       "4    1      0        male  \n",
       "5    1      0        female\n",
       "6    1      1        male  \n",
       "7    1      1        female\n",
       "8    1      0        male  \n",
       "9    1      1        female\n",
       "10   1      0        male  \n",
       "11   1      0        male  \n",
       "12   1      1        female\n",
       "13   1      1        female\n",
       "14   1      1        female\n",
       "15   1      1        male  \n",
       "16   1      0        male  \n",
       "17   1      0        male  \n",
       "18   1      1        female\n",
       "19   1      1        female\n",
       "20   1      0        male  \n",
       "21   1      1        male  \n",
       "22   1      1        female\n",
       "23   1      1        male  \n",
       "24   1      1        female\n",
       "25   1      1        female\n",
       "26   1      0        male  \n",
       "27   1      1        male  \n",
       "28   1      1        female\n",
       "29   1      1        female\n",
       "30   1      1        male  \n",
       "⋮    ⋮      ⋮        ⋮     \n",
       "1281  3      0       male  \n",
       "1282  3      0       male  \n",
       "1283  3      0       male  \n",
       "1284  3      0       male  \n",
       "1285  3      0       male  \n",
       "1286  3      0       male  \n",
       "1287  3      1       female\n",
       "1288  3      0       male  \n",
       "1289  3      0       male  \n",
       "1290  3      0       male  \n",
       "1291  3      1       female\n",
       "1292  3      0       male  \n",
       "1293  3      0       male  \n",
       "1294  3      0       male  \n",
       "1295  3      0       male  \n",
       "1296  3      0       male  \n",
       "1297  3      0       male  \n",
       "1298  3      0       male  \n",
       "1299  3      0       male  \n",
       "1300  3      0       male  \n",
       "1301  3      1       female\n",
       "1302  3      0       male  \n",
       "1303  3      0       male  \n",
       "1304  3      0       male  \n",
       "1305  3      0       female\n",
       "1306  3      0       female\n",
       "1307  3      0       male  \n",
       "1308  3      0       male  \n",
       "1309  3      0       male  \n",
       "1310 NA     NA             "
      ]
     },
     "metadata": {},
     "output_type": "display_data"
    }
   ],
   "source": [
    "# I'm going to base my chart off the survival rate of passengers, depending on passenger class and sex\n",
    "# I will have to create a dataframe of these columns, and normalise the data\n",
    "\n",
    "mydf <- bt[,c('pclass','survived','sex')]\n",
    "mydf"
   ]
  },
  {
   "cell_type": "code",
   "execution_count": 5,
   "id": "706a6eb0",
   "metadata": {},
   "outputs": [
    {
     "data": {
      "text/html": [
       "2"
      ],
      "text/latex": [
       "2"
      ],
      "text/markdown": [
       "2"
      ],
      "text/plain": [
       "[1] 2"
      ]
     },
     "metadata": {},
     "output_type": "display_data"
    },
    {
     "data": {
      "text/html": [
       "0"
      ],
      "text/latex": [
       "0"
      ],
      "text/markdown": [
       "0"
      ],
      "text/plain": [
       "[1] 0"
      ]
     },
     "metadata": {},
     "output_type": "display_data"
    }
   ],
   "source": [
    "# checking for NA values and removing them\n",
    "sum(is.na(mydf))\n",
    "mydf <- na.omit(mydf)\n",
    "sum(is.na(mydf))"
   ]
  },
  {
   "cell_type": "code",
   "execution_count": 6,
   "id": "713b8e2f",
   "metadata": {},
   "outputs": [
    {
     "name": "stderr",
     "output_type": "stream",
     "text": [
      "\u001b[1m\u001b[22m`summarise()` has grouped output by 'pclass'. You can override using the `.groups` argument.\n"
     ]
    }
   ],
   "source": [
    "# Calculate survival rate and count for each combination of passenger class and sex\n",
    "survival_rate <- mydf %>%\n",
    "  group_by(pclass, sex) %>%\n",
    "  summarize(Survival_Rate = mean(survived), Count = n())\n",
    "\n",
    "# Calculate the total count for each passenger class\n",
    "class_counts <- survival_rate %>%\n",
    "  group_by(pclass) %>%\n",
    "  summarize(Total_Count = sum(Count))\n",
    "\n",
    "# Merge the class_counts data frame with the survival_rate data frame\n",
    "survival_rate <- merge(survival_rate, class_counts)\n",
    "\n",
    "# Calculate the proportion of the count for each combination of passenger class and sex\n",
    "survival_rate$Count_Proportion <- survival_rate$Count / survival_rate$Total_Count"
   ]
  },
  {
   "cell_type": "code",
   "execution_count": 7,
   "id": "0f6c447e",
   "metadata": {},
   "outputs": [
    {
     "name": "stderr",
     "output_type": "stream",
     "text": [
      "Warning message:\n",
      "\"\u001b[1m\u001b[22m`position_stack()` requires non-overlapping \u001b[32mx\u001b[39m intervals\"\n"
     ]
    },
    {
     "data": {
      "image/png": "[encoded data removed]",
      "text/plain": [
       "plot without title"
      ]
     },
     "metadata": {
      "image/png": {
       "height": 420,
       "width": 420
      }
     },
     "output_type": "display_data"
    }
   ],
   "source": [
    "ggplot(survival_rate, aes(x = pclass, y = Survival_Rate, fill = sex, width = Count_Proportion)) +\n",
    "  geom_bar(stat = \"identity\", position = \"stack\") +\n",
    "  ylab(\"Survival Rate\") +\n",
    "  ggtitle(\"Survival Rate based on Passenger Class and Sex\") +\n",
    "  scale_x_discrete(name = \"Passenger Class\", limits = c(\"1\",\"2\",\"3\")) +\n",
    "  theme_minimal()"
   ]
  },
  {
   "cell_type": "markdown",
   "id": "ad9131f9",
   "metadata": {},
   "source": [
    "# ACCENT\n",
    "## Apprehension\n",
    "Apprehension can be shown by\n",
    "\n",
    "## Clarity\n",
    "The colours in the chart is easy to understand and differentiate.\n",
    "\n",
    "## Consistency\n",
    "\n",
    "\n",
    "## Efficiency\n",
    "\n",
    "## Necessity"
   ]
  }
 ],
 "metadata": {
  "kernelspec": {
   "display_name": "R",
   "language": "R",
   "name": "ir"
  },
  "language_info": {
   "codemirror_mode": "r",
   "file_extension": ".r",
   "mimetype": "text/x-r-source",
   "name": "R",
   "pygments_lexer": "r",
   "version": "4.2.2"
  }
 },
 "nbformat": 4,
 "nbformat_minor": 5
}
