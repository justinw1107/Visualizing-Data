{
 "cells": [
  {
   "cell_type": "markdown",
   "metadata": {},
   "source": [
    "# Using Maps in Visualisation"
   ]
  },
  {
   "cell_type": "markdown",
   "metadata": {},
   "source": [
    "###Scenario:\n",
    "\n",
    "This notebook takes in data from the South Carolina 'Grand Ole Party' Republican Primary elections in 2016 and maps results across the counties in South Carolina.  The data sources used are:\n",
    " - SCGOP2016.csv and\n",
    " - A shapefile folder, for the US.  Each county has a FIPS code as shown in \n",
    "https://www.mcc.co.mercer.pa.us/dps/state_fips_code_listing.htm  The FIPS code for South Carolina is 45."
   ]
  },
  {
   "cell_type": "markdown",
   "metadata": {},
   "source": [
    "This tutorial is adapted from part of Computerworld's How to Make a Map with R in 10 (fairly) Easy Steps https://www.computerworld.com/article/3038270/data-analytics/create-maps-in-r-in-10-fairly-easy-steps.html\n",
    " by Sharon Machlis sharon_machlis@idg.com\n",
    " \n",
    " The purpose of it is to show the outcome during the US presidential campaign of 2016, of \n",
    " \n",
    "  - the New Hampshire primary results for the Democratic Party \n",
    "  - the South Carolina primary results for the Republican Party.\n",
    " \n",
    " Please note that some of the code needed to be updated because tmaptools is no longer in use."
   ]
  },
  {
   "cell_type": "code",
   "execution_count": null,
   "metadata": {},
   "outputs": [],
   "source": [
    "\n",
    "# Run any of the install.packages() commands below for packages that are not yet on your system\n",
    "#  install.packages(\"shiny\") \n",
    "#  install.packages(\"urltools\")\n",
    "#  install.packages(\"tmap\")\n",
    "#  install.packages(\"leaflet\")\n",
    "#  install.packages(\"leaflet.extras\")\n",
    "#  install.packages(\"rio\")\n",
    "#  install.packages(\"scales\")\n",
    "#  install.packages(\"htmlwidgets\")\n",
    "#  install.packages(\"sf\")\n",
    "#  install.packages(\"dplyr\")\n",
    "library(raster)\n",
    "library(rgdal)\n",
    "library(ggplot2)\n",
    "library(broom)\n",
    "library(RColorBrewer)\n",
    "library(dplyr)\n",
    "library(ggsn)\n",
    "# set factors to false\n",
    "options(stringsAsFactors = FALSE)\n",
    "library(\"tmap\")\n",
    "library(\"scales\")\n",
    "library(\"leaflet\")\n",
    "library(\"sf\")\n",
    "library(\"leaflet.extras\")\n",
    "library(\"stringr\")"
   ]
  },
  {
   "cell_type": "markdown",
   "metadata": {},
   "source": [
    "### If I'm running this on my Mac, the path is different.   Sys.info()[\"system\"] tells me what my Operating System is."
   ]
  },
  {
   "cell_type": "markdown",
   "metadata": {},
   "source": [
    "#### Let's read in the data and check for NAs"
   ]
  },
  {
   "cell_type": "code",
   "execution_count": null,
   "metadata": {},
   "outputs": [],
   "source": [
    "mydata = file.path(\"C:\",\"Users\",\"thehd\",\"OneDrive\",\"College\",\"YEAR_4\",\"Visualizing_Data\",\"Labwork\",\"VisDataLab6\")\n",
    "datapath = file.path(mydata, \"SCGOP2016.csv\")\n",
    "\n",
    "scdata<-read.csv(datapath)\n",
    "print(head(scdata,2))\n",
    "print(\"Number of NAs per column\")\n",
    "sapply(scdata, function(x) sum(is.na(x)))"
   ]
  },
  {
   "cell_type": "markdown",
   "metadata": {},
   "source": [
    "### Get names of candidates who have won in any state"
   ]
  },
  {
   "cell_type": "code",
   "execution_count": null,
   "metadata": {},
   "outputs": [],
   "source": [
    "for(i in 1:nrow(scdata)){\n",
    "  scdata$winner[i] <- names(which.max(scdata[i,2:7]))\n",
    "}\n",
    "unique(scdata$winner)"
   ]
  },
  {
   "cell_type": "code",
   "execution_count": null,
   "metadata": {},
   "outputs": [],
   "source": [
    "colnames(scdata)"
   ]
  },
  {
   "cell_type": "markdown",
   "metadata": {},
   "source": [
    "## Leave Ted Cruz, but drop the others."
   ]
  },
  {
   "cell_type": "code",
   "execution_count": null,
   "metadata": {},
   "outputs": [],
   "source": [
    "scdata <- subset(scdata, select=c('County','Ted.Cruz','Marco.Rubio','Donald.J.Trump','Total','winner'))"
   ]
  },
  {
   "cell_type": "markdown",
   "metadata": {},
   "source": [
    "### So Donald.J.Trump and Marco.Rubio won counties in the state.\n",
    "\n",
    "We'll concentrate on them for the moment."
   ]
  },
  {
   "cell_type": "markdown",
   "metadata": {},
   "source": [
    "### Add columns for percents and margins:"
   ]
  },
  {
   "cell_type": "code",
   "execution_count": null,
   "metadata": {
    "scrolled": true
   },
   "outputs": [],
   "source": [
    "\n",
    "#scdata$Top2Votes <- scdata$Donald.J.Trump + scdata$Marco.Rubio\n",
    "scdata$TrumpMarginVotes <- scdata$Donald.J.Trump - scdata$Marco.Rubio\n",
    "scdata$RubioMarginVotes <-  scdata$Marco.Rubio - scdata$Donald.J.Trump\n",
    "scdata$TrumpPct <- scdata$Donald.J.Trump / (scdata$Donald.J.Trump + scdata$Marco.Rubio)\n",
    "scdata$RubioPct <- scdata$Marco.Rubio / (scdata$Marco.Rubio  + scdata$Donald.J.Trump)\n",
    "scdata$TrumpMarginPctPoints <- scdata$TrumpPct - scdata$RubioPct\n",
    "head(scdata)"
   ]
  },
  {
   "cell_type": "code",
   "execution_count": null,
   "metadata": {},
   "outputs": [],
   "source": [
    "length(colnames(scdata))"
   ]
  },
  {
   "cell_type": "code",
   "execution_count": null,
   "metadata": {},
   "outputs": [],
   "source": [
    "colnames(scdata)[2:5]"
   ]
  },
  {
   "cell_type": "code",
   "execution_count": null,
   "metadata": {},
   "outputs": [],
   "source": [
    "candidates <- colnames(scdata[2:7])\n",
    "for(i in 2:4){\n",
    "    print(i)\n",
    "  j = i + 10\n",
    "  temp <- scdata[[i]] / scdata$Total\n",
    "  scdata[[j]] <- temp\n",
    "  colnames(scdata)[j] <- paste0(colnames(scdata)[i], \"Pct\")\n",
    "  print(j)\n",
    "    print(i)\n",
    "    print(colnames(scdata)[j])\n",
    "}  \n",
    "  \n",
    "colnames(scdata)"
   ]
  },
  {
   "cell_type": "code",
   "execution_count": null,
   "metadata": {},
   "outputs": [],
   "source": [
    "head(scdata)"
   ]
  },
  {
   "cell_type": "markdown",
   "metadata": {},
   "source": [
    "## Now let's make a map\n",
    "\n",
    "Shape files are different to other data, so I keep them in a sub-directory of my Datasets folder called Map.  They come in a folder with a variety of files in them."
   ]
  },
  {
   "cell_type": "code",
   "execution_count": null,
   "metadata": {},
   "outputs": [],
   "source": [
    "\n",
    "usshapefile <- file.path(mydata,'Map','usshapefile')\n",
    "scfipscode <- \"45\" #South Carolina FIPS code"
   ]
  },
  {
   "cell_type": "markdown",
   "metadata": {},
   "source": [
    "### Check the name of the layers in the shape file"
   ]
  },
  {
   "cell_type": "code",
   "execution_count": null,
   "metadata": {},
   "outputs": [],
   "source": [
    "ogrListLayers(dsn=usshapefile)"
   ]
  },
  {
   "cell_type": "markdown",
   "metadata": {},
   "source": [
    "### Read in the shape file, choosing the layer you want"
   ]
  },
  {
   "cell_type": "code",
   "execution_count": null,
   "metadata": {},
   "outputs": [],
   "source": [
    "usgeo <-readOGR(usshapefile,layer=\"cb_2014_us_county_5m\") #We only want x and y dimensions."
   ]
  },
  {
   "cell_type": "markdown",
   "metadata": {},
   "source": [
    "You can look at the contents of usgeo, and at specific columns."
   ]
  },
  {
   "cell_type": "markdown",
   "metadata": {},
   "source": [
    "To understand the contents of a Spatial Polygons dataframe, look at https://mhallwor.github.io/_pages/basics_SpatialPolygons\n",
    "\n",
    "usgeo has @data, @polygons, @plotOrder, @bbox and @proj4string components.  usgeo\\\\$STATEFP is short for usgeo@data\\\\$STATEFP"
   ]
  },
  {
   "cell_type": "code",
   "execution_count": null,
   "metadata": {},
   "outputs": [],
   "source": [
    "str(usgeo)"
   ]
  },
  {
   "cell_type": "markdown",
   "metadata": {},
   "source": [
    "## We can draw a 'quick thematic map' of the US, with qtm"
   ]
  },
  {
   "cell_type": "code",
   "execution_count": null,
   "metadata": {},
   "outputs": [],
   "source": [
    "qtm(usgeo)"
   ]
  },
  {
   "cell_type": "markdown",
   "metadata": {},
   "source": [
    "### We only want the state with STATEFP the same as that for South Carolina.\n"
   ]
  },
  {
   "cell_type": "code",
   "execution_count": null,
   "metadata": {},
   "outputs": [],
   "source": [
    "# Subset the US shapefile to get just New Hampshire data in nhgeo\n",
    "scgeo <- usgeo[usgeo$STATEFP==scfipscode,]\n",
    "#nhgeo is a full spatial polygon dataframe, but here we just want to see the data part\n",
    "str(scgeo@data)"
   ]
  },
  {
   "cell_type": "code",
   "execution_count": null,
   "metadata": {},
   "outputs": [],
   "source": [
    "colnames(scgeo@data)[6]"
   ]
  },
  {
   "cell_type": "code",
   "execution_count": null,
   "metadata": {},
   "outputs": [],
   "source": [
    "colnames(scgeo@data)[6] = 'County'"
   ]
  },
  {
   "cell_type": "code",
   "execution_count": null,
   "metadata": {},
   "outputs": [],
   "source": [
    "qtm(scgeo,  text=\"County\")"
   ]
  },
  {
   "cell_type": "markdown",
   "metadata": {},
   "source": [
    "Next, we want to fill the map, depending on the election results in each county.  scgeo calls the county NAME, whilst scdata calls it County."
   ]
  },
  {
   "cell_type": "markdown",
   "metadata": {},
   "source": [
    "# Merging our dataframes"
   ]
  },
  {
   "cell_type": "code",
   "execution_count": null,
   "metadata": {},
   "outputs": [],
   "source": [
    "# Make sure county names are in the same format in both files\n",
    "str(scgeo$County)\n",
    "str(scdata$County)"
   ]
  },
  {
   "cell_type": "code",
   "execution_count": null,
   "metadata": {},
   "outputs": [],
   "source": [
    "# Order each data set by county name\n",
    "scgeo <- scgeo[order(scgeo$County),]\n",
    "scdata <- scdata[order(scdata$County),]\n",
    "\n",
    "# Are the two county columns identical now? They should be:\n",
    "identical(scgeo$County,scdata$County )"
   ]
  },
  {
   "cell_type": "code",
   "execution_count": null,
   "metadata": {},
   "outputs": [],
   "source": [
    "# Merge data to associate the election data (nhdata) with the spatial polygon dataframe\n",
    "scmap <- merge(scgeo, scdata, by.x=\"County\", by.y=\"County\")\n",
    "# See the new data structure with\n",
    "str(scmap)"
   ]
  },
  {
   "cell_type": "markdown",
   "metadata": {},
   "source": [
    "##Creating a static map"
   ]
  },
  {
   "cell_type": "code",
   "execution_count": null,
   "metadata": {},
   "outputs": [],
   "source": [
    "# Quick and easy maps as static images with tmap's qtm() function:\n",
    "qtm(scmap, text=\"County\", \"TrumpMarginVotes\")"
   ]
  },
  {
   "cell_type": "code",
   "execution_count": null,
   "metadata": {},
   "outputs": [],
   "source": [
    "# For more control over look and feel, use the tm_shape() function:\n",
    "scstaticmap <-tm_shape(scmap) +\n",
    "  tm_fill(\"TrumpMarginVotes\", title=\"Trump Margin, Total Votes\", palette = \"PRGn\")+\n",
    "  tm_borders(alpha=.5) +\n",
    "  tm_text(\"County\",size=0.8) +\n",
    "  tm_style(\"classic\")\n",
    "scstaticmap"
   ]
  },
  {
   "cell_type": "code",
   "execution_count": null,
   "metadata": {},
   "outputs": [],
   "source": [
    "\n",
    "# save the map to a jpg file:\n",
    "tmap_save(scstaticmap, filename=\"scgopprimary.jpg\")"
   ]
  },
  {
   "cell_type": "markdown",
   "metadata": {},
   "source": [
    "## Creating an interactive map"
   ]
  },
  {
   "cell_type": "markdown",
   "metadata": {},
   "source": [
    "#### Step 6: Create palette and pop-ups for interactive map\n",
    "The next map we'll create will let users click to see underlying data as well as switch between maps,using RStudio's Leaflet package that gives an R front-end to the open-source JavaScript Leaflet mapping library.  This uses OpenStreetMap, polygons and longitude and latitude."
   ]
  },
  {
   "cell_type": "markdown",
   "metadata": {},
   "source": [
    "For a Leaflet map, there are two extra things we'll want to create in addition to the data we already have: \n",
    " - a color palette and \n",
    " - pop-up window contents.\n",
    "\n",
    "For palette, we specify the data range we're mapping and what kind of color palette we want — both the particular colors and the type of color scale. \n",
    "\n",
    "There are four built-in types:\n",
    "\n",
    " - colorNumeric is for a continuous range of colors from low to high, so you might go from a very pale blue all the way to a deep dark blue, with many gradations in between.\n",
    " - colorBin maps a set of numerical data to a set of discrete bins, either defined by exact breaks or specific number of bins — things like \"low,\" \"medium\" and \"high\".\n",
    " - colorQuantile maps numerical data into groups where each group (quantile) has the same number of records — often used for income levels, such as bottom 20%, next-lowest 20% and so on.\n",
    " - colorFactor is for non-numerical categories where no numerical value makes sense, such as countries in Europe that are part of the Eurozone and those that aren't.\n",
    " \n",
    " For more info on mapping with Leaflet, visit https://bookdown.org/nicohahn/making_maps_with_r5/docs/leaflet.html\n",
    "\n",
    " "
   ]
  },
  {
   "cell_type": "code",
   "execution_count": null,
   "metadata": {},
   "outputs": [],
   "source": [
    "# Next up: Code for a basic interactive map, this time for Rubio percentages in SC\n",
    "\n",
    "# Create a palette\n",
    "rubioPalette <- colorNumeric(palette = \"Reds\", domain=scmap$RubioPct)"
   ]
  },
  {
   "cell_type": "code",
   "execution_count": null,
   "metadata": {},
   "outputs": [],
   "source": [
    "# and a pop-up window\n",
    "#library(scales)\n",
    "scpopup <- paste0(\"<b>County: \", \n",
    "                  scmap$NAME, \n",
    "                  \"</b><br />Trump \", \n",
    "                  percent(scmap$TrumpPct), \" - Rubio \", \n",
    "                  percent(scmap$RubioPct))"
   ]
  },
  {
   "cell_type": "markdown",
   "metadata": {},
   "source": [
    "For more info on paste0 visit ...https://r-lang.com/paste0-function-in-r-with-example/\n",
    "\n",
    "The paste() and paste0() functions combine several inputs into a character string."
   ]
  },
  {
   "cell_type": "markdown",
   "metadata": {},
   "source": [
    " ## Basic Usage of Leaflet\n",
    "\n",
    "You create a Leaflet map with these basic steps:\n",
    "\n",
    " - Create a map widget by calling leaflet().\n",
    " - Add layers (i.e., features) to the map by using layer functions (e.g. addTiles, addMarkers, addPolygons) to modify the map widget.\n",
    " - Repeat step 2 as desired.\n",
    " - Print the map widget to display it."
   ]
  },
  {
   "cell_type": "markdown",
   "metadata": {},
   "source": [
    "We're enhancing our map, concentrating on the polygons.  This is done by adding and parameterising them.  See https://search.r-project.org/CRAN/refmans/leaflet/html/map-layers.html for parameters and what they do.\n",
    "\n",
    "When this map is generated, the user can click on a county and get the data in scpopup."
   ]
  },
  {
   "cell_type": "code",
   "execution_count": null,
   "metadata": {},
   "outputs": [],
   "source": [
    "\n",
    "# Now the interactive map:\n",
    "leaflet(scmap) %>%\n",
    "  addProviderTiles(\"CartoDB.Positron\") %>%\n",
    "  addPolygons(stroke=FALSE, #stroke = TRUE adds a heavy border between the polygons.\n",
    "              smoothFactor = 0.2, \n",
    "              fillOpacity = .8, \n",
    "              popup=scpopup, \n",
    "              color= ~rubioPalette(scmap$RubioPct)\n",
    "              )\n",
    "  "
   ]
  },
  {
   "cell_type": "markdown",
   "metadata": {},
   "source": [
    "\n",
    "You may get an error message about an \"inconsistent datum\" along with your map. Projections are a complicated issue when mapping, but basically, you want your data projection to match that of your the underlying map tiles. This ensures that everything's consistent in terms of the scheme used to represent points on a 3D sphere in two dimensions. To fix this, you can add the projection recommended in the error message with\n",
    "\n",
    "nhmap_projected <- sf::st_transform(nhmap, \"+proj=longlat +datum=WGS84\")\n",
    "\n",
    "\n",
    "and then run the map code above with\n",
    "\n",
    "leaflet(nhmap_projected) \\%\\>\\%"
   ]
  },
  {
   "cell_type": "code",
   "execution_count": null,
   "metadata": {},
   "outputs": [],
   "source": [
    "# re-project\n",
    "scmapsf<-st_as_sf(scmap)\n",
    "scmap_projected <- sf::st_transform(scmapsf, \"+proj=longlat +datum=WGS84\")\n",
    "leaflet(scmap_projected) %>%\n",
    "  addProviderTiles(\"CartoDB.Positron\") %>%\n",
    "  addPolygons(stroke=FALSE, \n",
    "              smoothFactor = 0.2, \n",
    "              fillOpacity = .8, \n",
    "              popup=scpopup, \n",
    "              color= ~rubioPalette(scmap$RubioPct)\n",
    "  )"
   ]
  },
  {
   "cell_type": "markdown",
   "metadata": {},
   "source": [
    "# Adding layers to the map\n",
    "\n",
    "This time we'll add layers to the map.  There'll be a layer for \n",
    "\n",
    " - each of the top 3 candidates, with their performance in each county.\n",
    " - the winner in each county.\n",
    " - the percentage of the elgible voters in each county that have a third-level qualification.\n",
    "    -  we get this from a different dataset that we'll read in."
   ]
  },
  {
   "cell_type": "code",
   "execution_count": null,
   "metadata": {},
   "outputs": [],
   "source": [
    "sfgeo<-st_as_sf(usgeo)\n",
    "# # South Carolina shapefile:\n",
    "scgeo <- dplyr::filter(sfgeo, STATEFP==scfipscode)\n"
   ]
  },
  {
   "cell_type": "code",
   "execution_count": null,
   "metadata": {},
   "outputs": [],
   "source": [
    "names(scgeo)"
   ]
  },
  {
   "cell_type": "code",
   "execution_count": null,
   "metadata": {},
   "outputs": [],
   "source": [
    "names(scgeo)[6]<-'County'\n",
    "names(scgeo)"
   ]
  },
  {
   "cell_type": "code",
   "execution_count": null,
   "metadata": {},
   "outputs": [],
   "source": [
    "# Check if county names are in the same format in both files\n",
    "str(scgeo$County)\n",
    "str(scdata$County)\n",
    "\n",
    "# Order each data set by county name\n",
    "scgeo <- scgeo[order(scgeo$County),]\n",
    "scdata <- scdata[order(scdata$County),]\n",
    "\n",
    "# Are the two county columns identical now? They should be:\n",
    "identical(scgeo$County,scdata$County )\n",
    "\n",
    "scmap <-merge(scgeo, scdata, by.x=\"County\", by.y=\"County\")"
   ]
  },
  {
   "cell_type": "code",
   "execution_count": null,
   "metadata": {},
   "outputs": [],
   "source": [
    "str(scmap)"
   ]
  },
  {
   "cell_type": "code",
   "execution_count": null,
   "metadata": {},
   "outputs": [],
   "source": [
    "names(scmap)"
   ]
  },
  {
   "cell_type": "code",
   "execution_count": null,
   "metadata": {},
   "outputs": [],
   "source": [
    "length(unique(scmap$County))"
   ]
  },
  {
   "cell_type": "markdown",
   "metadata": {},
   "source": [
    "\n",
    " Instead of just coloring the winner, let's color by strength of win with multiple layers\n",
    " Use same intensity for all - get minimum and maximum for the top 3 combined"
   ]
  },
  {
   "cell_type": "code",
   "execution_count": null,
   "metadata": {},
   "outputs": [],
   "source": [
    "minpct <- min(c(scmap$Donald.J.TrumpPct, scmap$Marco.RubioPct , scmap$Ted.CruzPct))\n",
    "maxpct <- max(c(scmap$Donald.J.TrumpPct, scmap$Marco.RubioPct, scmap$Ted.CruzPct))"
   ]
  },
  {
   "cell_type": "code",
   "execution_count": null,
   "metadata": {},
   "outputs": [],
   "source": [
    "# Create leaflet palettes for each layer of the map:\n",
    "winnerPalette <- colorFactor(palette=c(\"#984ea3\", \"#e41a1c\"), domain = scmap$winner)\n",
    "trumpPalette <- colorNumeric(palette = \"Purples\", domain=c(minpct, maxpct))\n",
    "rubioPalette <- colorNumeric(palette = \"Reds\", domain = c(minpct, maxpct))\n",
    "cruzPalette <- colorNumeric(palette = \"Oranges\", domain = c(minpct, maxpct))\n",
    "\n",
    "# Create a pop-up:\n",
    "scpopup <- paste0(\"<b>County: \", scmap$County,\n",
    "                  \"<br />Winner: \", scmap$winner, \n",
    "                  \"<br /><br />Trump: \", percent(scmap$Donald.J.TrumpPct), \n",
    "                  \"<br />Rubio: \", percent(scmap$Marco.RubioPct), \n",
    "                  \"<br />Cruz: \", percent(scmap$Ted.CruzPct))\n",
    "\n",
    "# Add the projection we know from the NH map we'll need for this data on a Leaflet map:\n",
    "scmap <- sf::st_transform(scmap, \"+proj=longlat +datum=WGS84\")"
   ]
  },
  {
   "cell_type": "markdown",
   "metadata": {},
   "source": [
    "  - leaflet(scmap) creates a leaflet map object and sets scmap as the data source. \n",
    "  - addProviderTiles(\"CartoDB.Positron\" ) sets the background map tiles to CartoDB's  Positron design. \n",
    "  - The addPolygons() function puts the county shapes on the map and coloring them accordingly. \n",
    "    - stroke=FALSE says no border around the counties, \n",
    "    - fillOpacity sets the opacity of the colors,\n",
    "    - popup sets the contents of the popup window and \n",
    "    - color sets the palette "
   ]
  },
  {
   "cell_type": "code",
   "execution_count": null,
   "metadata": {},
   "outputs": [],
   "source": [
    "# Basic interactive map showing winner in each county:\n",
    "\n",
    "leaflet(scmap) %>%\n",
    "  addProviderTiles(\"CartoDB.Positron\") %>%\n",
    "  addPolygons(stroke=TRUE,\n",
    "              weight=1,\n",
    "              smoothFactor = 0.2, \n",
    "              fillOpacity = .75, \n",
    "              popup=scpopup, \n",
    "              color= ~winnerPalette(scmap$winner),\n",
    "              group=\"Winners\"\n",
    "  ) %>%\n",
    "\n",
    "  addLegend(position=\"bottomleft\", colors=c(\"#984ea3\", \"#e41a1c\"), labels=c(\"Trump\", \"Rubio\"))"
   ]
  },
  {
   "cell_type": "markdown",
   "metadata": {},
   "source": [
    "### Add palettes for a multi-layer map"
   ]
  },
  {
   "cell_type": "markdown",
   "metadata": {},
   "source": [
    "Let's look at the GOP results in South Carolina among the top three candidates. I won't go over the data wrangling on this, except to say that I downloaded results from the South Carolina State Election Commission as well as Census Bureau data for education levels by county. If you download the project files, you'll see the initial data as well as the R code I used to add candidate vote percentages and join all that data to the South Carolina shapefile. That creates a geospatial object scmap to map.\n",
    "\n",
    "There's so much data for a multi-candidate race that it's a little more complicated to choose what to color beyond \"who won.\" I decided to go with one map layer to show the winner in each county, one layer each for the top three candidates (Trump, Rubio and Cruz) and a final layer showing percent of adult population with at least a bachelor's degree. (Why education level? Some news reports out of South Carolina said that seemed to correlate with levels of Trump's support; mapping that could help show if there's a pattern.)\n",
    "\n",
    "In making my color palettes, I decided to use the same numerical scale for all three candidates. If I scaled color intensity for each candidate's minimum and maximum, a candidate with 10% to 18% would have a map with the same color intensities as one who had 45% to 52% — giving a wrong impression of the losing candidate's strength. So, first I calculated the minimum and maximum for the combined Trump/Rubio/Cruz county results:"
   ]
  },
  {
   "cell_type": "code",
   "execution_count": null,
   "metadata": {},
   "outputs": [],
   "source": [
    "# calculated the minimum and maximum for the combined Trump/Rubio/Cruz county results:\n",
    "\n",
    "minpct <- min(c(scmap$Donald.J.TrumpPct, scmap$Marco.RubioPct , scmap$Ted.CruzPct))\n",
    "maxpct <- max(c(scmap$Donald.J.TrumpPct, scmap$Marco.RubioPct , scmap$Ted.CruzPct))\n",
    "#Now I can create a palette for each candidate using different colors but the same intensity range."
   ]
  },
  {
   "cell_type": "code",
   "execution_count": null,
   "metadata": {},
   "outputs": [],
   "source": [
    "trumpPalette <- colorNumeric(palette = \"Purples\", domain=c(minpct, maxpct))\n",
    "rubioPalette <- colorNumeric(palette = \"Reds\", domain = c(minpct, maxpct))\n",
    "cruzPalette <- colorNumeric(palette = \"Oranges\", domain = c(minpct, maxpct))"
   ]
  },
  {
   "cell_type": "markdown",
   "metadata": {},
   "source": [
    "I'll create a basic pop-up showing the county name, who won, the percentage for each candidate and percent of population with a college degree:\n",
    "\n"
   ]
  },
  {
   "cell_type": "code",
   "execution_count": null,
   "metadata": {},
   "outputs": [],
   "source": [
    "scpopup <- paste0(\"County: \", scmap$County, \n",
    "                  \"Winner: \", scmap$winner, \n",
    "                  \"Trump: \", percent(scmap$Donald.J.TrumpPct), \n",
    "                  \"Rubio: \", percent(scmap$Marco.RubioPct), \n",
    "                  \"Cruz: \", percent(scmap$Ted.CruzPct))"
   ]
  },
  {
   "cell_type": "code",
   "execution_count": null,
   "metadata": {},
   "outputs": [],
   "source": [
    "winnerPalette <- colorFactor(palette=c(\"#984ea3\", \"#e41a1c\"), domain = scmap$winner)"
   ]
  },
  {
   "cell_type": "markdown",
   "metadata": {},
   "source": [
    "Finally, before mapping, I know that I'm going to need to add the same projection that I needed for the New Hampshire map. \n",
    "This code will add that projection to the scmap object:"
   ]
  },
  {
   "cell_type": "code",
   "execution_count": null,
   "metadata": {},
   "outputs": [],
   "source": [
    "scmap <- sf::st_transform(scmap, \"+proj=longlat +datum=WGS84\")"
   ]
  },
  {
   "cell_type": "markdown",
   "metadata": {},
   "source": [
    "This code shows a basic map of winners by county. Note that because only Trump and Rubio won counties in South Carolina, we can set up the legend to show only their colors and names:"
   ]
  },
  {
   "cell_type": "code",
   "execution_count": null,
   "metadata": {},
   "outputs": [],
   "source": [
    "# Put top 3 candidates in their own layers and add education layer, store in scGOPmap2 variable\n",
    "library(tidyverse)\n",
    "scGOPmap2 <- leaflet(scmap) %>%\n",
    "  addProviderTiles(\"CartoDB.Positron\") %>%\n",
    "  addPolygons(stroke=TRUE,\n",
    "              weight=1,\n",
    "              smoothFactor = 0.2, \n",
    "              fillOpacity = .75, \n",
    "              popup=scpopup, \n",
    "              color= ~winnerPalette(scmap$winner),\n",
    "              group=\"Winners\"\n",
    "  ) %>% \n",
    "  addLegend(position=\"bottomleft\", colors=c(\"#984ea3\", \"#e41a1c\"),\n",
    "            labels=c(\"Trump\", \"Rubio\"))   %>%\n",
    "  \n",
    "  addPolygons(stroke=TRUE,\n",
    "              weight=1,\n",
    "              smoothFactor = 0.2, \n",
    "              fillOpacity = .75, \n",
    "              popup=scpopup, \n",
    "              color= ~trumpPalette(scmap$Donald.J.TrumpPct),\n",
    "              group=\"Trump\"\n",
    "  ) %>%\n",
    "  \n",
    "  addPolygons(stroke=TRUE,\n",
    "              weight=1,\n",
    "              smoothFactor = 0.2, \n",
    "              fillOpacity = .75, \n",
    "              popup=scpopup, \n",
    "              color= ~rubioPalette(scmap$Marco.RubioPct),\n",
    "              group=\"Rubio\"\n",
    "  ) %>%\n",
    "  \n",
    "  addPolygons(stroke=TRUE,\n",
    "              weight=1,\n",
    "              smoothFactor = 0.2, \n",
    "              fillOpacity = .75, \n",
    "              popup=scpopup, \n",
    "              color= ~cruzPalette(scmap$Ted.CruzPct),\n",
    "              group=\"Cruz\"\n",
    "  ) %>%\n",
    "  \n",
    "#   addPolygons(stroke=TRUE,\n",
    "#               weight=1,\n",
    "#               smoothFactor = 0.2, \n",
    "#               fillOpacity = .75, \n",
    "#               popup=scpopup, \n",
    "#               color= ~edPalette(scmap$DegRatio),\n",
    "#               group=\"Graduates\"\n",
    "#   ) %>%\n",
    "  \n",
    "  addLayersControl(\n",
    "    baseGroups=c(\"Winners\", \"Trump\", \"Rubio\", \"Cruz\"),\n",
    "    position = \"bottomleft\",\n",
    "    options = layersControlOptions(collapsed = FALSE)\n",
    "  ) \n",
    "scGOPmap2"
   ]
  },
  {
   "cell_type": "code",
   "execution_count": null,
   "metadata": {},
   "outputs": [],
   "source": []
  },
  {
   "cell_type": "code",
   "execution_count": null,
   "metadata": {},
   "outputs": [],
   "source": []
  }
 ],
 "metadata": {
  "kernelspec": {
   "display_name": "R",
   "language": "R",
   "name": "ir"
  }
 },
 "nbformat": 4,
 "nbformat_minor": 2
}
