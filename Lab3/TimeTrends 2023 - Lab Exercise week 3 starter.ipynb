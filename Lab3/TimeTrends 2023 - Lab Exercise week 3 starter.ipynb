{
 "cells": [
  {
   "cell_type": "markdown",
   "metadata": {},
   "source": [
    "# Visualising time trends\n",
    "\n",
    "### We will use:\n",
    "\n",
    " - Discrete points in time:\n",
    "    - Bar Chart \n",
    "    - Scatter Plot\n",
    " - Continuous points in time\n",
    "    - Line Chart\n",
    "- Handling multiple dimensions over time\n",
    "    - Stacked bar chart\n",
    "    - Area Chart\n",
    "    - Small Multiples\n",
    "\n",
    "### But first:\n",
    " - Find time trend data.\n",
    "     - Source the data, and **check that it read properly**\n",
    "     - Make sure the 'time' columns are properly formatted. (Use the packages 'lubridate' and 'zoo')\n",
    " - Reshape the data so we have:\n",
    "    - A numeric / ordinal x-axis representing time.\n",
    "    - A numeric y-axis\n",
    "    - Encodings for other dimensions."
   ]
  },
  {
   "cell_type": "markdown",
   "metadata": {},
   "source": [
    "## Load the Video game sales dataset"
   ]
  },
  {
   "cell_type": "code",
   "execution_count": null,
   "metadata": {},
   "outputs": [],
   "source": []
  },
  {
   "cell_type": "markdown",
   "metadata": {},
   "source": [
    "### Load the libraries\n",
    " - tidyverse provides ggplot and some of the tidying libraries."
   ]
  },
  {
   "cell_type": "code",
   "execution_count": null,
   "metadata": {},
   "outputs": [],
   "source": []
  },
  {
   "cell_type": "markdown",
   "metadata": {},
   "source": [
    "### Preparing our data.  \n",
    "\n",
    "We need to \n",
    " - make our time column be time / date and that rows with NA are eliminated.\n",
    " - Check out what is in our dataset.\n",
    " - Pick or make columns we want to visualise.\n",
    " - How many dimensions do we want to visualise?  How will we encode them?\n",
    " - Are they in the right format or do we need to pivot?\n",
    " - Do we have the correct relationship between the x and y axis (do we need to summarise?)."
   ]
  },
  {
   "cell_type": "markdown",
   "metadata": {},
   "source": [
    "Convert any date attributes to numeric / date.  Check using both as.integer and as.Date and decide which is the most appropriate."
   ]
  },
  {
   "cell_type": "code",
   "execution_count": null,
   "metadata": {},
   "outputs": [],
   "source": []
  },
  {
   "cell_type": "markdown",
   "metadata": {},
   "source": [
    "Get rid of rows with NA in the year"
   ]
  },
  {
   "cell_type": "code",
   "execution_count": null,
   "metadata": {},
   "outputs": [],
   "source": []
  },
  {
   "cell_type": "markdown",
   "metadata": {},
   "source": [
    "#### Get rid of unwanted fields such as  Rank and Name using subset (look it up)."
   ]
  },
  {
   "cell_type": "code",
   "execution_count": null,
   "metadata": {},
   "outputs": [],
   "source": []
  },
  {
   "cell_type": "markdown",
   "metadata": {},
   "source": [
    "  You should now have a dataframe with the following structure:\n",
    "\n",
    "\n",
    "\n",
    "'data.frame':\t16327 obs. of  9 variables:\n",
    "\n",
    " - \\\\$ Platform   : chr  \"Wii\" \"NES\" \"Wii\" \"Wii\" ...\n",
    " - \\\\$ Year       : int  2006 1985 2008 2009 1996 1989 2006 2006 2009 1984 ...\n",
    " - \\\\$ Genre      : chr  \"Sports\" \"Platform\" \"Racing\" \"Sports\" ...\n",
    " - \\\\$ Publisher  : chr  \"Nintendo\" \"Nintendo\" \"Nintendo\" \"Nintendo\" ...\n",
    " - \\\\$ NA_Sales   : num  41.5 29.1 15.8 11.3 23.2 ...\n",
    " - \\\\$ EU_Sales   : num  29.02 3.58 11.01 8.89 2.26 ...\n",
    " - \\\\$ JP_Sales   : num  3.77 6.81 3.28 10.22 4.22 ...\n",
    " - \\\\$ Other_Sales: num  8.46 0.77 2.96 1 0.58 2.9 2.85 2.26 2.75 0.71 ...\n",
    " - \\\\$ Global_Sales: num  82.7 40.2 33 31.4 30.3 ..."
   ]
  },
  {
   "cell_type": "code",
   "execution_count": null,
   "metadata": {},
   "outputs": [],
   "source": []
  },
  {
   "cell_type": "markdown",
   "metadata": {},
   "source": [
    "Before drawing a bar chart, mapping Global sales of either a platform, a Genre or a Publisher, over the years, you will need to summarise.  So if you're going for Genre, get the sum over Year and Genre."
   ]
  },
  {
   "cell_type": "code",
   "execution_count": null,
   "metadata": {},
   "outputs": [],
   "source": []
  },
  {
   "cell_type": "markdown",
   "metadata": {},
   "source": [
    "Draw a bar chart, of total sales  for a single platform / Genre / Publisher over each year."
   ]
  },
  {
   "cell_type": "code",
   "execution_count": null,
   "metadata": {},
   "outputs": [],
   "source": []
  },
  {
   "cell_type": "markdown",
   "metadata": {},
   "source": [
    "Draw a scatter plot (geom_point) for the same data"
   ]
  },
  {
   "cell_type": "code",
   "execution_count": null,
   "metadata": {},
   "outputs": [],
   "source": []
  },
  {
   "cell_type": "markdown",
   "metadata": {},
   "source": [
    "Draw a stacked bar chart, for all platforms OR genres OR publishers over each year."
   ]
  },
  {
   "cell_type": "code",
   "execution_count": null,
   "metadata": {},
   "outputs": [],
   "source": []
  },
  {
   "cell_type": "markdown",
   "metadata": {},
   "source": [
    "Draw a scatter plot for the same data."
   ]
  },
  {
   "cell_type": "code",
   "execution_count": null,
   "metadata": {},
   "outputs": [],
   "source": []
  },
  {
   "cell_type": "markdown",
   "metadata": {},
   "source": [
    "You may use an instruction to change the dimensions of your plot:\n",
    "\n",
    "options(repr.plot.width=8, repr.plot.height=5)"
   ]
  },
  {
   "cell_type": "code",
   "execution_count": null,
   "metadata": {},
   "outputs": [],
   "source": []
  },
  {
   "cell_type": "markdown",
   "metadata": {},
   "source": [
    "Draw a line chart for a single value of Platform / Publisher  / Genre."
   ]
  },
  {
   "cell_type": "code",
   "execution_count": null,
   "metadata": {},
   "outputs": [],
   "source": []
  },
  {
   "cell_type": "markdown",
   "metadata": {},
   "source": [
    "Draw a stacked line chart for all values of Platform / Publisher / Genre."
   ]
  },
  {
   "cell_type": "code",
   "execution_count": null,
   "metadata": {},
   "outputs": [],
   "source": []
  },
  {
   "cell_type": "markdown",
   "metadata": {},
   "source": [
    "Draw an area chart for all values of Platform / Publisher / Genre."
   ]
  },
  {
   "cell_type": "code",
   "execution_count": null,
   "metadata": {},
   "outputs": [],
   "source": []
  },
  {
   "cell_type": "markdown",
   "metadata": {},
   "source": [
    "Draw a small multiples chart for all values of Platform / Publisher / , noting that depending on which side of the tilda (~) your column is, the multiples will be row-wise or column wise."
   ]
  },
  {
   "cell_type": "code",
   "execution_count": null,
   "metadata": {},
   "outputs": [],
   "source": []
  },
  {
   "cell_type": "markdown",
   "metadata": {},
   "source": [
    "Using markdown, describe what you think worked and didn't work.  Which chart type was most effective?"
   ]
  },
  {
   "cell_type": "code",
   "execution_count": null,
   "metadata": {},
   "outputs": [],
   "source": []
  }
 ],
 "metadata": {
  "kernelspec": {
   "display_name": "R",
   "language": "R",
   "name": "ir"
  },
  "language_info": {
   "codemirror_mode": "r",
   "file_extension": ".r",
   "mimetype": "text/x-r-source",
   "name": "R",
   "pygments_lexer": "r",
   "version": "4.2.2"
  }
 },
 "nbformat": 4,
 "nbformat_minor": 4
}
