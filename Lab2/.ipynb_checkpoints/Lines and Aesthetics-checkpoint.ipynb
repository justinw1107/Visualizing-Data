{
 "cells": [
  {
   "cell_type": "code",
   "execution_count": 22,
   "id": "0025a083",
   "metadata": {},
   "outputs": [
    {
     "name": "stderr",
     "output_type": "stream",
     "text": [
      "── \u001b[1mAttaching packages\u001b[22m ─────────────────────────────────────────────────────────────────────────────── tidyverse 1.3.2 ──\n",
      "\u001b[32m✔\u001b[39m \u001b[34mggplot2\u001b[39m 3.4.0     \u001b[32m✔\u001b[39m \u001b[34mpurrr  \u001b[39m 1.0.1\n",
      "\u001b[32m✔\u001b[39m \u001b[34mtibble \u001b[39m 3.1.8     \u001b[32m✔\u001b[39m \u001b[34mdplyr  \u001b[39m 1.1.0\n",
      "\u001b[32m✔\u001b[39m \u001b[34mtidyr  \u001b[39m 1.3.0     \u001b[32m✔\u001b[39m \u001b[34mstringr\u001b[39m 1.5.0\n",
      "\u001b[32m✔\u001b[39m \u001b[34mreadr  \u001b[39m 2.1.3     \u001b[32m✔\u001b[39m \u001b[34mforcats\u001b[39m 1.0.0\n",
      "── \u001b[1mConflicts\u001b[22m ────────────────────────────────────────────────────────────────────────────────── tidyverse_conflicts() ──\n",
      "\u001b[31m✖\u001b[39m \u001b[34mdplyr\u001b[39m::\u001b[32mfilter()\u001b[39m masks \u001b[34mstats\u001b[39m::filter()\n",
      "\u001b[31m✖\u001b[39m \u001b[34mdplyr\u001b[39m::\u001b[32mlag()\u001b[39m    masks \u001b[34mstats\u001b[39m::lag()\n"
     ]
    }
   ],
   "source": [
    "library(tidyverse)"
   ]
  },
  {
   "cell_type": "code",
   "execution_count": 120,
   "id": "06a47ed0",
   "metadata": {},
   "outputs": [
    {
     "name": "stderr",
     "output_type": "stream",
     "text": [
      "also installing the dependencies 'tweenr', 'polyclip', 'RcppEigen'\n",
      "\n",
      "\n"
     ]
    },
    {
     "name": "stdout",
     "output_type": "stream",
     "text": [
      "package 'tweenr' successfully unpacked and MD5 sums checked\n",
      "package 'polyclip' successfully unpacked and MD5 sums checked\n",
      "package 'RcppEigen' successfully unpacked and MD5 sums checked\n",
      "package 'ggforce' successfully unpacked and MD5 sums checked\n",
      "\n",
      "The downloaded binary packages are in\n",
      "\tC:\\Users\\thehd\\AppData\\Local\\Temp\\RtmpINsVYJ\\downloaded_packages\n"
     ]
    }
   ],
   "source": [
    "install.packages(\"ggforce\")\n",
    "install.packages(\"ggthemes\")\n",
    "install.packages(\"ggplot2\")                      # Install ggplot2 package\n",
    "library(\"ggplot2\")"
   ]
  },
  {
   "cell_type": "code",
   "execution_count": 15,
   "id": "73de9914",
   "metadata": {},
   "outputs": [],
   "source": [
    "# creating path to data\n",
    "mydata = file.path(\"C:\",\"Users\",\"thehd\",\"OneDrive\",\"College\",\"YEAR_4\",\"Visualizing_Data\",\"Labwork\",\"VisDataLab2\")\n",
    "datapath = file.path(mydata, \"pew.csv\")"
   ]
  },
  {
   "cell_type": "code",
   "execution_count": 16,
   "id": "b12d35b6",
   "metadata": {},
   "outputs": [],
   "source": [
    "# loading data from csv into a dataframe\n",
    "pew_dataset <- read.csv(datapath)"
   ]
  },
  {
   "cell_type": "code",
   "execution_count": 17,
   "id": "085a5e40",
   "metadata": {},
   "outputs": [],
   "source": [
    "# renaming columns\n",
    "colnames(pew_dataset) <- c(\"religion\",\"5000\",\"15000\",\"25000\",\"35000\",\"45000\",\"67500\",\"87500\",\"125000\",\"150000\",\"Refused\")"
   ]
  },
  {
   "cell_type": "code",
   "execution_count": 18,
   "id": "1bf28fa7",
   "metadata": {},
   "outputs": [
    {
     "data": {
      "text/html": [
       "<style>\n",
       ".list-inline {list-style: none; margin:0; padding: 0}\n",
       ".list-inline>li {display: inline-block}\n",
       ".list-inline>li:not(:last-child)::after {content: \"\\00b7\"; padding: 0 .5ex}\n",
       "</style>\n",
       "<ol class=list-inline><li>'religion'</li><li>'5000'</li><li>'15000'</li><li>'25000'</li><li>'35000'</li><li>'45000'</li><li>'67500'</li><li>'87500'</li><li>'125000'</li><li>'150000'</li><li>'Refused'</li></ol>\n"
      ],
      "text/latex": [
       "\\begin{enumerate*}\n",
       "\\item 'religion'\n",
       "\\item '5000'\n",
       "\\item '15000'\n",
       "\\item '25000'\n",
       "\\item '35000'\n",
       "\\item '45000'\n",
       "\\item '67500'\n",
       "\\item '87500'\n",
       "\\item '125000'\n",
       "\\item '150000'\n",
       "\\item 'Refused'\n",
       "\\end{enumerate*}\n"
      ],
      "text/markdown": [
       "1. 'religion'\n",
       "2. '5000'\n",
       "3. '15000'\n",
       "4. '25000'\n",
       "5. '35000'\n",
       "6. '45000'\n",
       "7. '67500'\n",
       "8. '87500'\n",
       "9. '125000'\n",
       "10. '150000'\n",
       "11. 'Refused'\n",
       "\n",
       "\n"
      ],
      "text/plain": [
       " [1] \"religion\" \"5000\"     \"15000\"    \"25000\"    \"35000\"    \"45000\"   \n",
       " [7] \"67500\"    \"87500\"    \"125000\"   \"150000\"   \"Refused\" "
      ]
     },
     "metadata": {},
     "output_type": "display_data"
    }
   ],
   "source": [
    "# checking column names\n",
    "colnames(pew_dataset)"
   ]
  },
  {
   "cell_type": "code",
   "execution_count": 19,
   "id": "962d1499",
   "metadata": {},
   "outputs": [],
   "source": [
    "# dropping \"Refused\" column\n",
    "pew_dataset = subset(pew_dataset, select = -c(Refused))"
   ]
  },
  {
   "cell_type": "code",
   "execution_count": 13,
   "id": "68715287",
   "metadata": {
    "scrolled": true
   },
   "outputs": [
    {
     "data": {
      "text/html": [
       "<table class=\"dataframe\">\n",
       "<caption>A data.frame: 18 × 10</caption>\n",
       "<thead>\n",
       "\t<tr><th></th><th scope=col>religion</th><th scope=col>5000</th><th scope=col>15000</th><th scope=col>25000</th><th scope=col>35000</th><th scope=col>45000</th><th scope=col>67500</th><th scope=col>87500</th><th scope=col>125000</th><th scope=col>150000</th></tr>\n",
       "\t<tr><th></th><th scope=col>&lt;chr&gt;</th><th scope=col>&lt;int&gt;</th><th scope=col>&lt;int&gt;</th><th scope=col>&lt;int&gt;</th><th scope=col>&lt;int&gt;</th><th scope=col>&lt;int&gt;</th><th scope=col>&lt;int&gt;</th><th scope=col>&lt;int&gt;</th><th scope=col>&lt;int&gt;</th><th scope=col>&lt;int&gt;</th></tr>\n",
       "</thead>\n",
       "<tbody>\n",
       "\t<tr><th scope=row>1</th><td>Agnostic               </td><td> 27</td><td> 34</td><td>  60</td><td> 81</td><td> 76</td><td> 137</td><td>122</td><td>109</td><td> 84</td></tr>\n",
       "\t<tr><th scope=row>2</th><td>Atheist                </td><td> 12</td><td> 27</td><td>  37</td><td> 52</td><td> 35</td><td>  70</td><td> 73</td><td> 59</td><td> 74</td></tr>\n",
       "\t<tr><th scope=row>3</th><td>Buddhist               </td><td> 27</td><td> 21</td><td>  30</td><td> 34</td><td> 33</td><td>  58</td><td> 62</td><td> 39</td><td> 53</td></tr>\n",
       "\t<tr><th scope=row>4</th><td>Catholic               </td><td>418</td><td>617</td><td> 732</td><td>670</td><td>638</td><td>1116</td><td>949</td><td>792</td><td>633</td></tr>\n",
       "\t<tr><th scope=row>5</th><td>Don’t know/refused     </td><td> 15</td><td> 14</td><td>  15</td><td> 11</td><td> 10</td><td>  35</td><td> 21</td><td> 17</td><td> 18</td></tr>\n",
       "\t<tr><th scope=row>6</th><td>Evangelical Prot       </td><td>575</td><td>869</td><td>1064</td><td>982</td><td>881</td><td>1486</td><td>949</td><td>723</td><td>414</td></tr>\n",
       "\t<tr><th scope=row>7</th><td>Hindu                  </td><td>  1</td><td>  9</td><td>   7</td><td>  9</td><td> 11</td><td>  34</td><td> 47</td><td> 48</td><td> 54</td></tr>\n",
       "\t<tr><th scope=row>8</th><td>Historically Black Prot</td><td>228</td><td>244</td><td> 236</td><td>238</td><td>197</td><td> 223</td><td>131</td><td> 81</td><td> 78</td></tr>\n",
       "\t<tr><th scope=row>9</th><td>Jehovah's Witness      </td><td> 20</td><td> 27</td><td>  24</td><td> 24</td><td> 21</td><td>  30</td><td> 15</td><td> 11</td><td>  6</td></tr>\n",
       "\t<tr><th scope=row>10</th><td>Jewish                 </td><td> 19</td><td> 19</td><td>  25</td><td> 25</td><td> 30</td><td>  95</td><td> 69</td><td> 87</td><td>151</td></tr>\n",
       "\t<tr><th scope=row>11</th><td>Mainline Prot          </td><td>289</td><td>495</td><td> 619</td><td>655</td><td>651</td><td>1107</td><td>939</td><td>753</td><td>634</td></tr>\n",
       "\t<tr><th scope=row>12</th><td>Mormon                 </td><td> 29</td><td> 40</td><td>  48</td><td> 51</td><td> 56</td><td> 112</td><td> 85</td><td> 49</td><td> 42</td></tr>\n",
       "\t<tr><th scope=row>13</th><td>Muslim                 </td><td>  6</td><td>  7</td><td>   9</td><td> 10</td><td>  9</td><td>  23</td><td> 16</td><td>  8</td><td>  6</td></tr>\n",
       "\t<tr><th scope=row>14</th><td>Orthodox               </td><td> 13</td><td> 17</td><td>  23</td><td> 32</td><td> 32</td><td>  47</td><td> 38</td><td> 42</td><td> 46</td></tr>\n",
       "\t<tr><th scope=row>15</th><td>Other Christian        </td><td>  9</td><td>  7</td><td>  11</td><td> 13</td><td> 13</td><td>  14</td><td> 18</td><td> 14</td><td> 12</td></tr>\n",
       "\t<tr><th scope=row>16</th><td>Other Faiths           </td><td> 20</td><td> 33</td><td>  40</td><td> 46</td><td> 49</td><td>  63</td><td> 46</td><td> 40</td><td> 41</td></tr>\n",
       "\t<tr><th scope=row>17</th><td>Other World Religions  </td><td>  5</td><td>  2</td><td>   3</td><td>  4</td><td>  2</td><td>   7</td><td>  3</td><td>  4</td><td>  4</td></tr>\n",
       "\t<tr><th scope=row>18</th><td>Unaffiliated           </td><td>217</td><td>299</td><td> 374</td><td>365</td><td>341</td><td> 528</td><td>407</td><td>321</td><td>258</td></tr>\n",
       "</tbody>\n",
       "</table>\n"
      ],
      "text/latex": [
       "A data.frame: 18 × 10\n",
       "\\begin{tabular}{r|llllllllll}\n",
       "  & religion & 5000 & 15000 & 25000 & 35000 & 45000 & 67500 & 87500 & 125000 & 150000\\\\\n",
       "  & <chr> & <int> & <int> & <int> & <int> & <int> & <int> & <int> & <int> & <int>\\\\\n",
       "\\hline\n",
       "\t1 & Agnostic                &  27 &  34 &   60 &  81 &  76 &  137 & 122 & 109 &  84\\\\\n",
       "\t2 & Atheist                 &  12 &  27 &   37 &  52 &  35 &   70 &  73 &  59 &  74\\\\\n",
       "\t3 & Buddhist                &  27 &  21 &   30 &  34 &  33 &   58 &  62 &  39 &  53\\\\\n",
       "\t4 & Catholic                & 418 & 617 &  732 & 670 & 638 & 1116 & 949 & 792 & 633\\\\\n",
       "\t5 & Don’t know/refused      &  15 &  14 &   15 &  11 &  10 &   35 &  21 &  17 &  18\\\\\n",
       "\t6 & Evangelical Prot        & 575 & 869 & 1064 & 982 & 881 & 1486 & 949 & 723 & 414\\\\\n",
       "\t7 & Hindu                   &   1 &   9 &    7 &   9 &  11 &   34 &  47 &  48 &  54\\\\\n",
       "\t8 & Historically Black Prot & 228 & 244 &  236 & 238 & 197 &  223 & 131 &  81 &  78\\\\\n",
       "\t9 & Jehovah's Witness       &  20 &  27 &   24 &  24 &  21 &   30 &  15 &  11 &   6\\\\\n",
       "\t10 & Jewish                  &  19 &  19 &   25 &  25 &  30 &   95 &  69 &  87 & 151\\\\\n",
       "\t11 & Mainline Prot           & 289 & 495 &  619 & 655 & 651 & 1107 & 939 & 753 & 634\\\\\n",
       "\t12 & Mormon                  &  29 &  40 &   48 &  51 &  56 &  112 &  85 &  49 &  42\\\\\n",
       "\t13 & Muslim                  &   6 &   7 &    9 &  10 &   9 &   23 &  16 &   8 &   6\\\\\n",
       "\t14 & Orthodox                &  13 &  17 &   23 &  32 &  32 &   47 &  38 &  42 &  46\\\\\n",
       "\t15 & Other Christian         &   9 &   7 &   11 &  13 &  13 &   14 &  18 &  14 &  12\\\\\n",
       "\t16 & Other Faiths            &  20 &  33 &   40 &  46 &  49 &   63 &  46 &  40 &  41\\\\\n",
       "\t17 & Other World Religions   &   5 &   2 &    3 &   4 &   2 &    7 &   3 &   4 &   4\\\\\n",
       "\t18 & Unaffiliated            & 217 & 299 &  374 & 365 & 341 &  528 & 407 & 321 & 258\\\\\n",
       "\\end{tabular}\n"
      ],
      "text/markdown": [
       "\n",
       "A data.frame: 18 × 10\n",
       "\n",
       "| <!--/--> | religion &lt;chr&gt; | 5000 &lt;int&gt; | 15000 &lt;int&gt; | 25000 &lt;int&gt; | 35000 &lt;int&gt; | 45000 &lt;int&gt; | 67500 &lt;int&gt; | 87500 &lt;int&gt; | 125000 &lt;int&gt; | 150000 &lt;int&gt; |\n",
       "|---|---|---|---|---|---|---|---|---|---|---|\n",
       "| 1 | Agnostic                |  27 |  34 |   60 |  81 |  76 |  137 | 122 | 109 |  84 |\n",
       "| 2 | Atheist                 |  12 |  27 |   37 |  52 |  35 |   70 |  73 |  59 |  74 |\n",
       "| 3 | Buddhist                |  27 |  21 |   30 |  34 |  33 |   58 |  62 |  39 |  53 |\n",
       "| 4 | Catholic                | 418 | 617 |  732 | 670 | 638 | 1116 | 949 | 792 | 633 |\n",
       "| 5 | Don’t know/refused      |  15 |  14 |   15 |  11 |  10 |   35 |  21 |  17 |  18 |\n",
       "| 6 | Evangelical Prot        | 575 | 869 | 1064 | 982 | 881 | 1486 | 949 | 723 | 414 |\n",
       "| 7 | Hindu                   |   1 |   9 |    7 |   9 |  11 |   34 |  47 |  48 |  54 |\n",
       "| 8 | Historically Black Prot | 228 | 244 |  236 | 238 | 197 |  223 | 131 |  81 |  78 |\n",
       "| 9 | Jehovah's Witness       |  20 |  27 |   24 |  24 |  21 |   30 |  15 |  11 |   6 |\n",
       "| 10 | Jewish                  |  19 |  19 |   25 |  25 |  30 |   95 |  69 |  87 | 151 |\n",
       "| 11 | Mainline Prot           | 289 | 495 |  619 | 655 | 651 | 1107 | 939 | 753 | 634 |\n",
       "| 12 | Mormon                  |  29 |  40 |   48 |  51 |  56 |  112 |  85 |  49 |  42 |\n",
       "| 13 | Muslim                  |   6 |   7 |    9 |  10 |   9 |   23 |  16 |   8 |   6 |\n",
       "| 14 | Orthodox                |  13 |  17 |   23 |  32 |  32 |   47 |  38 |  42 |  46 |\n",
       "| 15 | Other Christian         |   9 |   7 |   11 |  13 |  13 |   14 |  18 |  14 |  12 |\n",
       "| 16 | Other Faiths            |  20 |  33 |   40 |  46 |  49 |   63 |  46 |  40 |  41 |\n",
       "| 17 | Other World Religions   |   5 |   2 |    3 |   4 |   2 |    7 |   3 |   4 |   4 |\n",
       "| 18 | Unaffiliated            | 217 | 299 |  374 | 365 | 341 |  528 | 407 | 321 | 258 |\n",
       "\n"
      ],
      "text/plain": [
       "   religion                5000 15000 25000 35000 45000 67500 87500 125000\n",
       "1  Agnostic                 27   34     60   81    76    137  122   109   \n",
       "2  Atheist                  12   27     37   52    35     70   73    59   \n",
       "3  Buddhist                 27   21     30   34    33     58   62    39   \n",
       "4  Catholic                418  617    732  670   638   1116  949   792   \n",
       "5  Don’t know/refused       15   14     15   11    10     35   21    17   \n",
       "6  Evangelical Prot        575  869   1064  982   881   1486  949   723   \n",
       "7  Hindu                     1    9      7    9    11     34   47    48   \n",
       "8  Historically Black Prot 228  244    236  238   197    223  131    81   \n",
       "9  Jehovah's Witness        20   27     24   24    21     30   15    11   \n",
       "10 Jewish                   19   19     25   25    30     95   69    87   \n",
       "11 Mainline Prot           289  495    619  655   651   1107  939   753   \n",
       "12 Mormon                   29   40     48   51    56    112   85    49   \n",
       "13 Muslim                    6    7      9   10     9     23   16     8   \n",
       "14 Orthodox                 13   17     23   32    32     47   38    42   \n",
       "15 Other Christian           9    7     11   13    13     14   18    14   \n",
       "16 Other Faiths             20   33     40   46    49     63   46    40   \n",
       "17 Other World Religions     5    2      3    4     2      7    3     4   \n",
       "18 Unaffiliated            217  299    374  365   341    528  407   321   \n",
       "   150000\n",
       "1   84   \n",
       "2   74   \n",
       "3   53   \n",
       "4  633   \n",
       "5   18   \n",
       "6  414   \n",
       "7   54   \n",
       "8   78   \n",
       "9    6   \n",
       "10 151   \n",
       "11 634   \n",
       "12  42   \n",
       "13   6   \n",
       "14  46   \n",
       "15  12   \n",
       "16  41   \n",
       "17   4   \n",
       "18 258   "
      ]
     },
     "metadata": {},
     "output_type": "display_data"
    }
   ],
   "source": [
    "# check dataframe\n",
    "pew_dataset"
   ]
  },
  {
   "cell_type": "code",
   "execution_count": 106,
   "id": "ca0ff6d1",
   "metadata": {},
   "outputs": [
    {
     "data": {
      "text/html": [
       "<style>\n",
       ".list-inline {list-style: none; margin:0; padding: 0}\n",
       ".list-inline>li {display: inline-block}\n",
       ".list-inline>li:not(:last-child)::after {content: \"\\00b7\"; padding: 0 .5ex}\n",
       "</style>\n",
       "<ol class=list-inline><li>6</li><li>4</li><li>11</li><li>18</li><li>8</li><li>1</li><li>10</li><li>12</li><li>2</li><li>16</li><li>3</li><li>14</li><li>7</li><li>9</li><li>5</li><li>15</li><li>13</li><li>17</li></ol>\n"
      ],
      "text/latex": [
       "\\begin{enumerate*}\n",
       "\\item 6\n",
       "\\item 4\n",
       "\\item 11\n",
       "\\item 18\n",
       "\\item 8\n",
       "\\item 1\n",
       "\\item 10\n",
       "\\item 12\n",
       "\\item 2\n",
       "\\item 16\n",
       "\\item 3\n",
       "\\item 14\n",
       "\\item 7\n",
       "\\item 9\n",
       "\\item 5\n",
       "\\item 15\n",
       "\\item 13\n",
       "\\item 17\n",
       "\\end{enumerate*}\n"
      ],
      "text/markdown": [
       "1. 6\n",
       "2. 4\n",
       "3. 11\n",
       "4. 18\n",
       "5. 8\n",
       "6. 1\n",
       "7. 10\n",
       "8. 12\n",
       "9. 2\n",
       "10. 16\n",
       "11. 3\n",
       "12. 14\n",
       "13. 7\n",
       "14. 9\n",
       "15. 5\n",
       "16. 15\n",
       "17. 13\n",
       "18. 17\n",
       "\n",
       "\n"
      ],
      "text/plain": [
       " [1]  6  4 11 18  8  1 10 12  2 16  3 14  7  9  5 15 13 17"
      ]
     },
     "metadata": {},
     "output_type": "display_data"
    },
    {
     "data": {
      "text/html": [
       "<style>\n",
       ".dl-inline {width: auto; margin:0; padding: 0}\n",
       ".dl-inline>dt, .dl-inline>dd {float: none; width: auto; display: inline-block}\n",
       ".dl-inline>dt::after {content: \":\\0020\"; padding-right: .5ex}\n",
       ".dl-inline>dt:not(:first-of-type) {padding-left: .5ex}\n",
       "</style><dl class=dl-inline><dt>1</dt><dd>730</dd><dt>2</dt><dd>439</dd><dt>3</dt><dd>357</dd><dt>4</dt><dd>6565</dd><dt>5</dt><dd>156</dd><dt>6</dt><dd>7943</dd><dt>7</dt><dd>220</dd><dt>8</dt><dd>1656</dd><dt>9</dt><dd>178</dd><dt>10</dt><dd>520</dd><dt>11</dt><dd>6142</dd><dt>12</dt><dd>512</dd><dt>13</dt><dd>94</dd><dt>14</dt><dd>290</dd><dt>15</dt><dd>111</dd><dt>16</dt><dd>378</dd><dt>17</dt><dd>34</dd><dt>18</dt><dd>3110</dd></dl>\n"
      ],
      "text/latex": [
       "\\begin{description*}\n",
       "\\item[1] 730\n",
       "\\item[2] 439\n",
       "\\item[3] 357\n",
       "\\item[4] 6565\n",
       "\\item[5] 156\n",
       "\\item[6] 7943\n",
       "\\item[7] 220\n",
       "\\item[8] 1656\n",
       "\\item[9] 178\n",
       "\\item[10] 520\n",
       "\\item[11] 6142\n",
       "\\item[12] 512\n",
       "\\item[13] 94\n",
       "\\item[14] 290\n",
       "\\item[15] 111\n",
       "\\item[16] 378\n",
       "\\item[17] 34\n",
       "\\item[18] 3110\n",
       "\\end{description*}\n"
      ],
      "text/markdown": [
       "1\n",
       ":   7302\n",
       ":   4393\n",
       ":   3574\n",
       ":   65655\n",
       ":   1566\n",
       ":   79437\n",
       ":   2208\n",
       ":   16569\n",
       ":   17810\n",
       ":   52011\n",
       ":   614212\n",
       ":   51213\n",
       ":   9414\n",
       ":   29015\n",
       ":   11116\n",
       ":   37817\n",
       ":   3418\n",
       ":   3110\n",
       "\n"
      ],
      "text/plain": [
       "   1    2    3    4    5    6    7    8    9   10   11   12   13   14   15   16 \n",
       " 730  439  357 6565  156 7943  220 1656  178  520 6142  512   94  290  111  378 \n",
       "  17   18 \n",
       "  34 3110 "
      ]
     },
     "metadata": {},
     "output_type": "display_data"
    }
   ],
   "source": [
    "#creating test dataframe\n",
    "test_df <- pew_dataset\n",
    "\n",
    "#dropping religion from dataframe\n",
    "test_df = subset(test_df, select = -c(religion))\n",
    "#count number of rows in descending order to see which religion is most popular\n",
    "\n",
    "test2 <- order(-rowSums(test_df))\n",
    "test2\n",
    "rowSums(test_df)"
   ]
  },
  {
   "cell_type": "code",
   "execution_count": 112,
   "id": "d83f7116",
   "metadata": {},
   "outputs": [],
   "source": [
    "#dropping religions that are not top 6 in popularity\n",
    "pew_dataset <- pew_dataset[-c(10,12,2,16,3,14,7,9,5,15,13,17),]"
   ]
  },
  {
   "cell_type": "code",
   "execution_count": 113,
   "id": "63f47fb9",
   "metadata": {},
   "outputs": [
    {
     "data": {
      "text/html": [
       "<table class=\"dataframe\">\n",
       "<caption>A tibble: 54 × 3</caption>\n",
       "<thead>\n",
       "\t<tr><th scope=col>religion</th><th scope=col>amount</th><th scope=col>count</th></tr>\n",
       "\t<tr><th scope=col>&lt;chr&gt;</th><th scope=col>&lt;chr&gt;</th><th scope=col>&lt;int&gt;</th></tr>\n",
       "</thead>\n",
       "<tbody>\n",
       "\t<tr><td>Agnostic               </td><td>5000  </td><td>  27</td></tr>\n",
       "\t<tr><td>Agnostic               </td><td>15000 </td><td>  34</td></tr>\n",
       "\t<tr><td>Agnostic               </td><td>25000 </td><td>  60</td></tr>\n",
       "\t<tr><td>Agnostic               </td><td>35000 </td><td>  81</td></tr>\n",
       "\t<tr><td>Agnostic               </td><td>45000 </td><td>  76</td></tr>\n",
       "\t<tr><td>Agnostic               </td><td>67500 </td><td> 137</td></tr>\n",
       "\t<tr><td>Agnostic               </td><td>87500 </td><td> 122</td></tr>\n",
       "\t<tr><td>Agnostic               </td><td>125000</td><td> 109</td></tr>\n",
       "\t<tr><td>Agnostic               </td><td>150000</td><td>  84</td></tr>\n",
       "\t<tr><td>Catholic               </td><td>5000  </td><td> 418</td></tr>\n",
       "\t<tr><td>Catholic               </td><td>15000 </td><td> 617</td></tr>\n",
       "\t<tr><td>Catholic               </td><td>25000 </td><td> 732</td></tr>\n",
       "\t<tr><td>Catholic               </td><td>35000 </td><td> 670</td></tr>\n",
       "\t<tr><td>Catholic               </td><td>45000 </td><td> 638</td></tr>\n",
       "\t<tr><td>Catholic               </td><td>67500 </td><td>1116</td></tr>\n",
       "\t<tr><td>Catholic               </td><td>87500 </td><td> 949</td></tr>\n",
       "\t<tr><td>Catholic               </td><td>125000</td><td> 792</td></tr>\n",
       "\t<tr><td>Catholic               </td><td>150000</td><td> 633</td></tr>\n",
       "\t<tr><td>Evangelical Prot       </td><td>5000  </td><td> 575</td></tr>\n",
       "\t<tr><td>Evangelical Prot       </td><td>15000 </td><td> 869</td></tr>\n",
       "\t<tr><td>Evangelical Prot       </td><td>25000 </td><td>1064</td></tr>\n",
       "\t<tr><td>Evangelical Prot       </td><td>35000 </td><td> 982</td></tr>\n",
       "\t<tr><td>Evangelical Prot       </td><td>45000 </td><td> 881</td></tr>\n",
       "\t<tr><td>Evangelical Prot       </td><td>67500 </td><td>1486</td></tr>\n",
       "\t<tr><td>Evangelical Prot       </td><td>87500 </td><td> 949</td></tr>\n",
       "\t<tr><td>Evangelical Prot       </td><td>125000</td><td> 723</td></tr>\n",
       "\t<tr><td>Evangelical Prot       </td><td>150000</td><td> 414</td></tr>\n",
       "\t<tr><td>Historically Black Prot</td><td>5000  </td><td> 228</td></tr>\n",
       "\t<tr><td>Historically Black Prot</td><td>15000 </td><td> 244</td></tr>\n",
       "\t<tr><td>Historically Black Prot</td><td>25000 </td><td> 236</td></tr>\n",
       "\t<tr><td>Historically Black Prot</td><td>35000 </td><td> 238</td></tr>\n",
       "\t<tr><td>Historically Black Prot</td><td>45000 </td><td> 197</td></tr>\n",
       "\t<tr><td>Historically Black Prot</td><td>67500 </td><td> 223</td></tr>\n",
       "\t<tr><td>Historically Black Prot</td><td>87500 </td><td> 131</td></tr>\n",
       "\t<tr><td>Historically Black Prot</td><td>125000</td><td>  81</td></tr>\n",
       "\t<tr><td>Historically Black Prot</td><td>150000</td><td>  78</td></tr>\n",
       "\t<tr><td>Mainline Prot          </td><td>5000  </td><td> 289</td></tr>\n",
       "\t<tr><td>Mainline Prot          </td><td>15000 </td><td> 495</td></tr>\n",
       "\t<tr><td>Mainline Prot          </td><td>25000 </td><td> 619</td></tr>\n",
       "\t<tr><td>Mainline Prot          </td><td>35000 </td><td> 655</td></tr>\n",
       "\t<tr><td>Mainline Prot          </td><td>45000 </td><td> 651</td></tr>\n",
       "\t<tr><td>Mainline Prot          </td><td>67500 </td><td>1107</td></tr>\n",
       "\t<tr><td>Mainline Prot          </td><td>87500 </td><td> 939</td></tr>\n",
       "\t<tr><td>Mainline Prot          </td><td>125000</td><td> 753</td></tr>\n",
       "\t<tr><td>Mainline Prot          </td><td>150000</td><td> 634</td></tr>\n",
       "\t<tr><td>Unaffiliated           </td><td>5000  </td><td> 217</td></tr>\n",
       "\t<tr><td>Unaffiliated           </td><td>15000 </td><td> 299</td></tr>\n",
       "\t<tr><td>Unaffiliated           </td><td>25000 </td><td> 374</td></tr>\n",
       "\t<tr><td>Unaffiliated           </td><td>35000 </td><td> 365</td></tr>\n",
       "\t<tr><td>Unaffiliated           </td><td>45000 </td><td> 341</td></tr>\n",
       "\t<tr><td>Unaffiliated           </td><td>67500 </td><td> 528</td></tr>\n",
       "\t<tr><td>Unaffiliated           </td><td>87500 </td><td> 407</td></tr>\n",
       "\t<tr><td>Unaffiliated           </td><td>125000</td><td> 321</td></tr>\n",
       "\t<tr><td>Unaffiliated           </td><td>150000</td><td> 258</td></tr>\n",
       "</tbody>\n",
       "</table>\n"
      ],
      "text/latex": [
       "A tibble: 54 × 3\n",
       "\\begin{tabular}{lll}\n",
       " religion & amount & count\\\\\n",
       " <chr> & <chr> & <int>\\\\\n",
       "\\hline\n",
       "\t Agnostic                & 5000   &   27\\\\\n",
       "\t Agnostic                & 15000  &   34\\\\\n",
       "\t Agnostic                & 25000  &   60\\\\\n",
       "\t Agnostic                & 35000  &   81\\\\\n",
       "\t Agnostic                & 45000  &   76\\\\\n",
       "\t Agnostic                & 67500  &  137\\\\\n",
       "\t Agnostic                & 87500  &  122\\\\\n",
       "\t Agnostic                & 125000 &  109\\\\\n",
       "\t Agnostic                & 150000 &   84\\\\\n",
       "\t Catholic                & 5000   &  418\\\\\n",
       "\t Catholic                & 15000  &  617\\\\\n",
       "\t Catholic                & 25000  &  732\\\\\n",
       "\t Catholic                & 35000  &  670\\\\\n",
       "\t Catholic                & 45000  &  638\\\\\n",
       "\t Catholic                & 67500  & 1116\\\\\n",
       "\t Catholic                & 87500  &  949\\\\\n",
       "\t Catholic                & 125000 &  792\\\\\n",
       "\t Catholic                & 150000 &  633\\\\\n",
       "\t Evangelical Prot        & 5000   &  575\\\\\n",
       "\t Evangelical Prot        & 15000  &  869\\\\\n",
       "\t Evangelical Prot        & 25000  & 1064\\\\\n",
       "\t Evangelical Prot        & 35000  &  982\\\\\n",
       "\t Evangelical Prot        & 45000  &  881\\\\\n",
       "\t Evangelical Prot        & 67500  & 1486\\\\\n",
       "\t Evangelical Prot        & 87500  &  949\\\\\n",
       "\t Evangelical Prot        & 125000 &  723\\\\\n",
       "\t Evangelical Prot        & 150000 &  414\\\\\n",
       "\t Historically Black Prot & 5000   &  228\\\\\n",
       "\t Historically Black Prot & 15000  &  244\\\\\n",
       "\t Historically Black Prot & 25000  &  236\\\\\n",
       "\t Historically Black Prot & 35000  &  238\\\\\n",
       "\t Historically Black Prot & 45000  &  197\\\\\n",
       "\t Historically Black Prot & 67500  &  223\\\\\n",
       "\t Historically Black Prot & 87500  &  131\\\\\n",
       "\t Historically Black Prot & 125000 &   81\\\\\n",
       "\t Historically Black Prot & 150000 &   78\\\\\n",
       "\t Mainline Prot           & 5000   &  289\\\\\n",
       "\t Mainline Prot           & 15000  &  495\\\\\n",
       "\t Mainline Prot           & 25000  &  619\\\\\n",
       "\t Mainline Prot           & 35000  &  655\\\\\n",
       "\t Mainline Prot           & 45000  &  651\\\\\n",
       "\t Mainline Prot           & 67500  & 1107\\\\\n",
       "\t Mainline Prot           & 87500  &  939\\\\\n",
       "\t Mainline Prot           & 125000 &  753\\\\\n",
       "\t Mainline Prot           & 150000 &  634\\\\\n",
       "\t Unaffiliated            & 5000   &  217\\\\\n",
       "\t Unaffiliated            & 15000  &  299\\\\\n",
       "\t Unaffiliated            & 25000  &  374\\\\\n",
       "\t Unaffiliated            & 35000  &  365\\\\\n",
       "\t Unaffiliated            & 45000  &  341\\\\\n",
       "\t Unaffiliated            & 67500  &  528\\\\\n",
       "\t Unaffiliated            & 87500  &  407\\\\\n",
       "\t Unaffiliated            & 125000 &  321\\\\\n",
       "\t Unaffiliated            & 150000 &  258\\\\\n",
       "\\end{tabular}\n"
      ],
      "text/markdown": [
       "\n",
       "A tibble: 54 × 3\n",
       "\n",
       "| religion &lt;chr&gt; | amount &lt;chr&gt; | count &lt;int&gt; |\n",
       "|---|---|---|\n",
       "| Agnostic                | 5000   |   27 |\n",
       "| Agnostic                | 15000  |   34 |\n",
       "| Agnostic                | 25000  |   60 |\n",
       "| Agnostic                | 35000  |   81 |\n",
       "| Agnostic                | 45000  |   76 |\n",
       "| Agnostic                | 67500  |  137 |\n",
       "| Agnostic                | 87500  |  122 |\n",
       "| Agnostic                | 125000 |  109 |\n",
       "| Agnostic                | 150000 |   84 |\n",
       "| Catholic                | 5000   |  418 |\n",
       "| Catholic                | 15000  |  617 |\n",
       "| Catholic                | 25000  |  732 |\n",
       "| Catholic                | 35000  |  670 |\n",
       "| Catholic                | 45000  |  638 |\n",
       "| Catholic                | 67500  | 1116 |\n",
       "| Catholic                | 87500  |  949 |\n",
       "| Catholic                | 125000 |  792 |\n",
       "| Catholic                | 150000 |  633 |\n",
       "| Evangelical Prot        | 5000   |  575 |\n",
       "| Evangelical Prot        | 15000  |  869 |\n",
       "| Evangelical Prot        | 25000  | 1064 |\n",
       "| Evangelical Prot        | 35000  |  982 |\n",
       "| Evangelical Prot        | 45000  |  881 |\n",
       "| Evangelical Prot        | 67500  | 1486 |\n",
       "| Evangelical Prot        | 87500  |  949 |\n",
       "| Evangelical Prot        | 125000 |  723 |\n",
       "| Evangelical Prot        | 150000 |  414 |\n",
       "| Historically Black Prot | 5000   |  228 |\n",
       "| Historically Black Prot | 15000  |  244 |\n",
       "| Historically Black Prot | 25000  |  236 |\n",
       "| Historically Black Prot | 35000  |  238 |\n",
       "| Historically Black Prot | 45000  |  197 |\n",
       "| Historically Black Prot | 67500  |  223 |\n",
       "| Historically Black Prot | 87500  |  131 |\n",
       "| Historically Black Prot | 125000 |   81 |\n",
       "| Historically Black Prot | 150000 |   78 |\n",
       "| Mainline Prot           | 5000   |  289 |\n",
       "| Mainline Prot           | 15000  |  495 |\n",
       "| Mainline Prot           | 25000  |  619 |\n",
       "| Mainline Prot           | 35000  |  655 |\n",
       "| Mainline Prot           | 45000  |  651 |\n",
       "| Mainline Prot           | 67500  | 1107 |\n",
       "| Mainline Prot           | 87500  |  939 |\n",
       "| Mainline Prot           | 125000 |  753 |\n",
       "| Mainline Prot           | 150000 |  634 |\n",
       "| Unaffiliated            | 5000   |  217 |\n",
       "| Unaffiliated            | 15000  |  299 |\n",
       "| Unaffiliated            | 25000  |  374 |\n",
       "| Unaffiliated            | 35000  |  365 |\n",
       "| Unaffiliated            | 45000  |  341 |\n",
       "| Unaffiliated            | 67500  |  528 |\n",
       "| Unaffiliated            | 87500  |  407 |\n",
       "| Unaffiliated            | 125000 |  321 |\n",
       "| Unaffiliated            | 150000 |  258 |\n",
       "\n"
      ],
      "text/plain": [
       "   religion                amount count\n",
       "1  Agnostic                5000     27 \n",
       "2  Agnostic                15000    34 \n",
       "3  Agnostic                25000    60 \n",
       "4  Agnostic                35000    81 \n",
       "5  Agnostic                45000    76 \n",
       "6  Agnostic                67500   137 \n",
       "7  Agnostic                87500   122 \n",
       "8  Agnostic                125000  109 \n",
       "9  Agnostic                150000   84 \n",
       "10 Catholic                5000    418 \n",
       "11 Catholic                15000   617 \n",
       "12 Catholic                25000   732 \n",
       "13 Catholic                35000   670 \n",
       "14 Catholic                45000   638 \n",
       "15 Catholic                67500  1116 \n",
       "16 Catholic                87500   949 \n",
       "17 Catholic                125000  792 \n",
       "18 Catholic                150000  633 \n",
       "19 Evangelical Prot        5000    575 \n",
       "20 Evangelical Prot        15000   869 \n",
       "21 Evangelical Prot        25000  1064 \n",
       "22 Evangelical Prot        35000   982 \n",
       "23 Evangelical Prot        45000   881 \n",
       "24 Evangelical Prot        67500  1486 \n",
       "25 Evangelical Prot        87500   949 \n",
       "26 Evangelical Prot        125000  723 \n",
       "27 Evangelical Prot        150000  414 \n",
       "28 Historically Black Prot 5000    228 \n",
       "29 Historically Black Prot 15000   244 \n",
       "30 Historically Black Prot 25000   236 \n",
       "31 Historically Black Prot 35000   238 \n",
       "32 Historically Black Prot 45000   197 \n",
       "33 Historically Black Prot 67500   223 \n",
       "34 Historically Black Prot 87500   131 \n",
       "35 Historically Black Prot 125000   81 \n",
       "36 Historically Black Prot 150000   78 \n",
       "37 Mainline Prot           5000    289 \n",
       "38 Mainline Prot           15000   495 \n",
       "39 Mainline Prot           25000   619 \n",
       "40 Mainline Prot           35000   655 \n",
       "41 Mainline Prot           45000   651 \n",
       "42 Mainline Prot           67500  1107 \n",
       "43 Mainline Prot           87500   939 \n",
       "44 Mainline Prot           125000  753 \n",
       "45 Mainline Prot           150000  634 \n",
       "46 Unaffiliated            5000    217 \n",
       "47 Unaffiliated            15000   299 \n",
       "48 Unaffiliated            25000   374 \n",
       "49 Unaffiliated            35000   365 \n",
       "50 Unaffiliated            45000   341 \n",
       "51 Unaffiliated            67500   528 \n",
       "52 Unaffiliated            87500   407 \n",
       "53 Unaffiliated            125000  321 \n",
       "54 Unaffiliated            150000  258 "
      ]
     },
     "metadata": {},
     "output_type": "display_data"
    }
   ],
   "source": [
    "pdf <- pew_dataset %>%\n",
    "    pivot_longer(\n",
    "    cols = !religion,\n",
    "    names_to = \"amount\",\n",
    "    values_to = \"count\")\n",
    "pdf"
   ]
  },
  {
   "cell_type": "code",
   "execution_count": 114,
   "id": "69936db0",
   "metadata": {},
   "outputs": [
    {
     "data": {
      "text/html": [
       "'integer'"
      ],
      "text/latex": [
       "'integer'"
      ],
      "text/markdown": [
       "'integer'"
      ],
      "text/plain": [
       "[1] \"integer\""
      ]
     },
     "metadata": {},
     "output_type": "display_data"
    },
    {
     "data": {
      "text/html": [
       "'character'"
      ],
      "text/latex": [
       "'character'"
      ],
      "text/markdown": [
       "'character'"
      ],
      "text/plain": [
       "[1] \"character\""
      ]
     },
     "metadata": {},
     "output_type": "display_data"
    },
    {
     "data": {
      "text/html": [
       "'integer'"
      ],
      "text/latex": [
       "'integer'"
      ],
      "text/markdown": [
       "'integer'"
      ],
      "text/plain": [
       "[1] \"integer\""
      ]
     },
     "metadata": {},
     "output_type": "display_data"
    }
   ],
   "source": [
    "# checking types of columns\n",
    "class(pdf$count)\n",
    "class(pdf$amount)\n",
    "pdf$amount<-as.integer(pdf$amount)\n",
    "class(pdf$amount)"
   ]
  },
  {
   "cell_type": "code",
   "execution_count": 115,
   "id": "50b94187",
   "metadata": {},
   "outputs": [
    {
     "data": {
      "image/png": "[encoded data removed]",
      "text/plain": [
       "plot without title"
      ]
     },
     "metadata": {
      "image/png": {
       "height": 420,
       "width": 420
      }
     },
     "output_type": "display_data"
    }
   ],
   "source": [
    "# create single line chart using the religion \"Catholic\"\n",
    "pdf[pdf$religion=='Catholic',]%>%\n",
    "ggplot(aes(x=amount, y=count, color=religion, group=religion)) + geom_line()"
   ]
  },
  {
   "cell_type": "code",
   "execution_count": 116,
   "id": "21ad7979",
   "metadata": {},
   "outputs": [
    {
     "data": {
      "image/png": "[encoded data removed]",
      "text/plain": [
       "plot without title"
      ]
     },
     "metadata": {
      "image/png": {
       "height": 420,
       "width": 420
      }
     },
     "output_type": "display_data"
    }
   ],
   "source": [
    "# drawing a multi-line chart for each religion\n",
    "ggplot(pdf, aes(x=amount, y=count, color=religion, group=religion)) + geom_line()"
   ]
  },
  {
   "cell_type": "code",
   "execution_count": 135,
   "id": "96304da6",
   "metadata": {},
   "outputs": [
    {
     "name": "stdout",
     "output_type": "stream",
     "text": [
      "package 'ggthemes' successfully unpacked and MD5 sums checked\n",
      "\n",
      "The downloaded binary packages are in\n",
      "\tC:\\Users\\thehd\\AppData\\Local\\Temp\\RtmpINsVYJ\\downloaded_packages\n"
     ]
    }
   ],
   "source": [
    "install.packages(\"ggthemes\")"
   ]
  },
  {
   "cell_type": "code",
   "execution_count": 139,
   "id": "833c56a7",
   "metadata": {},
   "outputs": [
    {
     "data": {
      "image/png": "[encoded data removed]",
      "text/plain": [
       "plot without title"
      ]
     },
     "metadata": {
      "image/png": {
       "height": 420,
       "width": 420
      }
     },
     "output_type": "display_data"
    }
   ],
   "source": [
    "library(ggthemes)\n",
    "# beautifying chart by adding labels, theme, emphasis, and add dashed lines\n",
    "ggplot(pdf, aes(x=amount, y=count, color=religion, group=religion)) + geom_line(linewidth=1.5, linetype=\"dashed\") +\n",
    "labs(\n",
    "    title=\"Annual Church Income\",\n",
    "    subtitle=\"What religion earns the most money?\",\n",
    "    x=\"Yearly income (USD$)\",\n",
    "    y=\"Number of religious institutions\",\n",
    "    color = \"Religion\"\n",
    ") + theme_fivethirtyeight() + theme(axis.title = element_text())"
   ]
  },
  {
   "cell_type": "code",
   "execution_count": 141,
   "id": "830f89a7",
   "metadata": {},
   "outputs": [
    {
     "data": {
      "text/html": [
       "<table class=\"dataframe\">\n",
       "<caption>A tibble: 54 × 4</caption>\n",
       "<thead>\n",
       "\t<tr><th scope=col>religion</th><th scope=col>amount</th><th scope=col>count</th><th scope=col>isRichest</th></tr>\n",
       "\t<tr><th scope=col>&lt;chr&gt;</th><th scope=col>&lt;int&gt;</th><th scope=col>&lt;int&gt;</th><th scope=col>&lt;lgl&gt;</th></tr>\n",
       "</thead>\n",
       "<tbody>\n",
       "\t<tr><td>Agnostic               </td><td>  5000</td><td>  27</td><td>FALSE</td></tr>\n",
       "\t<tr><td>Agnostic               </td><td> 15000</td><td>  34</td><td>FALSE</td></tr>\n",
       "\t<tr><td>Agnostic               </td><td> 25000</td><td>  60</td><td>FALSE</td></tr>\n",
       "\t<tr><td>Agnostic               </td><td> 35000</td><td>  81</td><td>FALSE</td></tr>\n",
       "\t<tr><td>Agnostic               </td><td> 45000</td><td>  76</td><td>FALSE</td></tr>\n",
       "\t<tr><td>Agnostic               </td><td> 67500</td><td> 137</td><td>FALSE</td></tr>\n",
       "\t<tr><td>Agnostic               </td><td> 87500</td><td> 122</td><td>FALSE</td></tr>\n",
       "\t<tr><td>Agnostic               </td><td>125000</td><td> 109</td><td>FALSE</td></tr>\n",
       "\t<tr><td>Agnostic               </td><td>150000</td><td>  84</td><td>FALSE</td></tr>\n",
       "\t<tr><td>Catholic               </td><td>  5000</td><td> 418</td><td>FALSE</td></tr>\n",
       "\t<tr><td>Catholic               </td><td> 15000</td><td> 617</td><td>FALSE</td></tr>\n",
       "\t<tr><td>Catholic               </td><td> 25000</td><td> 732</td><td>FALSE</td></tr>\n",
       "\t<tr><td>Catholic               </td><td> 35000</td><td> 670</td><td>FALSE</td></tr>\n",
       "\t<tr><td>Catholic               </td><td> 45000</td><td> 638</td><td>FALSE</td></tr>\n",
       "\t<tr><td>Catholic               </td><td> 67500</td><td>1116</td><td>FALSE</td></tr>\n",
       "\t<tr><td>Catholic               </td><td> 87500</td><td> 949</td><td>FALSE</td></tr>\n",
       "\t<tr><td>Catholic               </td><td>125000</td><td> 792</td><td>FALSE</td></tr>\n",
       "\t<tr><td>Catholic               </td><td>150000</td><td> 633</td><td>FALSE</td></tr>\n",
       "\t<tr><td>Evangelical Prot       </td><td>  5000</td><td> 575</td><td> TRUE</td></tr>\n",
       "\t<tr><td>Evangelical Prot       </td><td> 15000</td><td> 869</td><td> TRUE</td></tr>\n",
       "\t<tr><td>Evangelical Prot       </td><td> 25000</td><td>1064</td><td> TRUE</td></tr>\n",
       "\t<tr><td>Evangelical Prot       </td><td> 35000</td><td> 982</td><td> TRUE</td></tr>\n",
       "\t<tr><td>Evangelical Prot       </td><td> 45000</td><td> 881</td><td> TRUE</td></tr>\n",
       "\t<tr><td>Evangelical Prot       </td><td> 67500</td><td>1486</td><td> TRUE</td></tr>\n",
       "\t<tr><td>Evangelical Prot       </td><td> 87500</td><td> 949</td><td> TRUE</td></tr>\n",
       "\t<tr><td>Evangelical Prot       </td><td>125000</td><td> 723</td><td> TRUE</td></tr>\n",
       "\t<tr><td>Evangelical Prot       </td><td>150000</td><td> 414</td><td> TRUE</td></tr>\n",
       "\t<tr><td>Historically Black Prot</td><td>  5000</td><td> 228</td><td>FALSE</td></tr>\n",
       "\t<tr><td>Historically Black Prot</td><td> 15000</td><td> 244</td><td>FALSE</td></tr>\n",
       "\t<tr><td>Historically Black Prot</td><td> 25000</td><td> 236</td><td>FALSE</td></tr>\n",
       "\t<tr><td>Historically Black Prot</td><td> 35000</td><td> 238</td><td>FALSE</td></tr>\n",
       "\t<tr><td>Historically Black Prot</td><td> 45000</td><td> 197</td><td>FALSE</td></tr>\n",
       "\t<tr><td>Historically Black Prot</td><td> 67500</td><td> 223</td><td>FALSE</td></tr>\n",
       "\t<tr><td>Historically Black Prot</td><td> 87500</td><td> 131</td><td>FALSE</td></tr>\n",
       "\t<tr><td>Historically Black Prot</td><td>125000</td><td>  81</td><td>FALSE</td></tr>\n",
       "\t<tr><td>Historically Black Prot</td><td>150000</td><td>  78</td><td>FALSE</td></tr>\n",
       "\t<tr><td>Mainline Prot          </td><td>  5000</td><td> 289</td><td>FALSE</td></tr>\n",
       "\t<tr><td>Mainline Prot          </td><td> 15000</td><td> 495</td><td>FALSE</td></tr>\n",
       "\t<tr><td>Mainline Prot          </td><td> 25000</td><td> 619</td><td>FALSE</td></tr>\n",
       "\t<tr><td>Mainline Prot          </td><td> 35000</td><td> 655</td><td>FALSE</td></tr>\n",
       "\t<tr><td>Mainline Prot          </td><td> 45000</td><td> 651</td><td>FALSE</td></tr>\n",
       "\t<tr><td>Mainline Prot          </td><td> 67500</td><td>1107</td><td>FALSE</td></tr>\n",
       "\t<tr><td>Mainline Prot          </td><td> 87500</td><td> 939</td><td>FALSE</td></tr>\n",
       "\t<tr><td>Mainline Prot          </td><td>125000</td><td> 753</td><td>FALSE</td></tr>\n",
       "\t<tr><td>Mainline Prot          </td><td>150000</td><td> 634</td><td>FALSE</td></tr>\n",
       "\t<tr><td>Unaffiliated           </td><td>  5000</td><td> 217</td><td>FALSE</td></tr>\n",
       "\t<tr><td>Unaffiliated           </td><td> 15000</td><td> 299</td><td>FALSE</td></tr>\n",
       "\t<tr><td>Unaffiliated           </td><td> 25000</td><td> 374</td><td>FALSE</td></tr>\n",
       "\t<tr><td>Unaffiliated           </td><td> 35000</td><td> 365</td><td>FALSE</td></tr>\n",
       "\t<tr><td>Unaffiliated           </td><td> 45000</td><td> 341</td><td>FALSE</td></tr>\n",
       "\t<tr><td>Unaffiliated           </td><td> 67500</td><td> 528</td><td>FALSE</td></tr>\n",
       "\t<tr><td>Unaffiliated           </td><td> 87500</td><td> 407</td><td>FALSE</td></tr>\n",
       "\t<tr><td>Unaffiliated           </td><td>125000</td><td> 321</td><td>FALSE</td></tr>\n",
       "\t<tr><td>Unaffiliated           </td><td>150000</td><td> 258</td><td>FALSE</td></tr>\n",
       "</tbody>\n",
       "</table>\n"
      ],
      "text/latex": [
       "A tibble: 54 × 4\n",
       "\\begin{tabular}{llll}\n",
       " religion & amount & count & isRichest\\\\\n",
       " <chr> & <int> & <int> & <lgl>\\\\\n",
       "\\hline\n",
       "\t Agnostic                &   5000 &   27 & FALSE\\\\\n",
       "\t Agnostic                &  15000 &   34 & FALSE\\\\\n",
       "\t Agnostic                &  25000 &   60 & FALSE\\\\\n",
       "\t Agnostic                &  35000 &   81 & FALSE\\\\\n",
       "\t Agnostic                &  45000 &   76 & FALSE\\\\\n",
       "\t Agnostic                &  67500 &  137 & FALSE\\\\\n",
       "\t Agnostic                &  87500 &  122 & FALSE\\\\\n",
       "\t Agnostic                & 125000 &  109 & FALSE\\\\\n",
       "\t Agnostic                & 150000 &   84 & FALSE\\\\\n",
       "\t Catholic                &   5000 &  418 & FALSE\\\\\n",
       "\t Catholic                &  15000 &  617 & FALSE\\\\\n",
       "\t Catholic                &  25000 &  732 & FALSE\\\\\n",
       "\t Catholic                &  35000 &  670 & FALSE\\\\\n",
       "\t Catholic                &  45000 &  638 & FALSE\\\\\n",
       "\t Catholic                &  67500 & 1116 & FALSE\\\\\n",
       "\t Catholic                &  87500 &  949 & FALSE\\\\\n",
       "\t Catholic                & 125000 &  792 & FALSE\\\\\n",
       "\t Catholic                & 150000 &  633 & FALSE\\\\\n",
       "\t Evangelical Prot        &   5000 &  575 &  TRUE\\\\\n",
       "\t Evangelical Prot        &  15000 &  869 &  TRUE\\\\\n",
       "\t Evangelical Prot        &  25000 & 1064 &  TRUE\\\\\n",
       "\t Evangelical Prot        &  35000 &  982 &  TRUE\\\\\n",
       "\t Evangelical Prot        &  45000 &  881 &  TRUE\\\\\n",
       "\t Evangelical Prot        &  67500 & 1486 &  TRUE\\\\\n",
       "\t Evangelical Prot        &  87500 &  949 &  TRUE\\\\\n",
       "\t Evangelical Prot        & 125000 &  723 &  TRUE\\\\\n",
       "\t Evangelical Prot        & 150000 &  414 &  TRUE\\\\\n",
       "\t Historically Black Prot &   5000 &  228 & FALSE\\\\\n",
       "\t Historically Black Prot &  15000 &  244 & FALSE\\\\\n",
       "\t Historically Black Prot &  25000 &  236 & FALSE\\\\\n",
       "\t Historically Black Prot &  35000 &  238 & FALSE\\\\\n",
       "\t Historically Black Prot &  45000 &  197 & FALSE\\\\\n",
       "\t Historically Black Prot &  67500 &  223 & FALSE\\\\\n",
       "\t Historically Black Prot &  87500 &  131 & FALSE\\\\\n",
       "\t Historically Black Prot & 125000 &   81 & FALSE\\\\\n",
       "\t Historically Black Prot & 150000 &   78 & FALSE\\\\\n",
       "\t Mainline Prot           &   5000 &  289 & FALSE\\\\\n",
       "\t Mainline Prot           &  15000 &  495 & FALSE\\\\\n",
       "\t Mainline Prot           &  25000 &  619 & FALSE\\\\\n",
       "\t Mainline Prot           &  35000 &  655 & FALSE\\\\\n",
       "\t Mainline Prot           &  45000 &  651 & FALSE\\\\\n",
       "\t Mainline Prot           &  67500 & 1107 & FALSE\\\\\n",
       "\t Mainline Prot           &  87500 &  939 & FALSE\\\\\n",
       "\t Mainline Prot           & 125000 &  753 & FALSE\\\\\n",
       "\t Mainline Prot           & 150000 &  634 & FALSE\\\\\n",
       "\t Unaffiliated            &   5000 &  217 & FALSE\\\\\n",
       "\t Unaffiliated            &  15000 &  299 & FALSE\\\\\n",
       "\t Unaffiliated            &  25000 &  374 & FALSE\\\\\n",
       "\t Unaffiliated            &  35000 &  365 & FALSE\\\\\n",
       "\t Unaffiliated            &  45000 &  341 & FALSE\\\\\n",
       "\t Unaffiliated            &  67500 &  528 & FALSE\\\\\n",
       "\t Unaffiliated            &  87500 &  407 & FALSE\\\\\n",
       "\t Unaffiliated            & 125000 &  321 & FALSE\\\\\n",
       "\t Unaffiliated            & 150000 &  258 & FALSE\\\\\n",
       "\\end{tabular}\n"
      ],
      "text/markdown": [
       "\n",
       "A tibble: 54 × 4\n",
       "\n",
       "| religion &lt;chr&gt; | amount &lt;int&gt; | count &lt;int&gt; | isRichest &lt;lgl&gt; |\n",
       "|---|---|---|---|\n",
       "| Agnostic                |   5000 |   27 | FALSE |\n",
       "| Agnostic                |  15000 |   34 | FALSE |\n",
       "| Agnostic                |  25000 |   60 | FALSE |\n",
       "| Agnostic                |  35000 |   81 | FALSE |\n",
       "| Agnostic                |  45000 |   76 | FALSE |\n",
       "| Agnostic                |  67500 |  137 | FALSE |\n",
       "| Agnostic                |  87500 |  122 | FALSE |\n",
       "| Agnostic                | 125000 |  109 | FALSE |\n",
       "| Agnostic                | 150000 |   84 | FALSE |\n",
       "| Catholic                |   5000 |  418 | FALSE |\n",
       "| Catholic                |  15000 |  617 | FALSE |\n",
       "| Catholic                |  25000 |  732 | FALSE |\n",
       "| Catholic                |  35000 |  670 | FALSE |\n",
       "| Catholic                |  45000 |  638 | FALSE |\n",
       "| Catholic                |  67500 | 1116 | FALSE |\n",
       "| Catholic                |  87500 |  949 | FALSE |\n",
       "| Catholic                | 125000 |  792 | FALSE |\n",
       "| Catholic                | 150000 |  633 | FALSE |\n",
       "| Evangelical Prot        |   5000 |  575 |  TRUE |\n",
       "| Evangelical Prot        |  15000 |  869 |  TRUE |\n",
       "| Evangelical Prot        |  25000 | 1064 |  TRUE |\n",
       "| Evangelical Prot        |  35000 |  982 |  TRUE |\n",
       "| Evangelical Prot        |  45000 |  881 |  TRUE |\n",
       "| Evangelical Prot        |  67500 | 1486 |  TRUE |\n",
       "| Evangelical Prot        |  87500 |  949 |  TRUE |\n",
       "| Evangelical Prot        | 125000 |  723 |  TRUE |\n",
       "| Evangelical Prot        | 150000 |  414 |  TRUE |\n",
       "| Historically Black Prot |   5000 |  228 | FALSE |\n",
       "| Historically Black Prot |  15000 |  244 | FALSE |\n",
       "| Historically Black Prot |  25000 |  236 | FALSE |\n",
       "| Historically Black Prot |  35000 |  238 | FALSE |\n",
       "| Historically Black Prot |  45000 |  197 | FALSE |\n",
       "| Historically Black Prot |  67500 |  223 | FALSE |\n",
       "| Historically Black Prot |  87500 |  131 | FALSE |\n",
       "| Historically Black Prot | 125000 |   81 | FALSE |\n",
       "| Historically Black Prot | 150000 |   78 | FALSE |\n",
       "| Mainline Prot           |   5000 |  289 | FALSE |\n",
       "| Mainline Prot           |  15000 |  495 | FALSE |\n",
       "| Mainline Prot           |  25000 |  619 | FALSE |\n",
       "| Mainline Prot           |  35000 |  655 | FALSE |\n",
       "| Mainline Prot           |  45000 |  651 | FALSE |\n",
       "| Mainline Prot           |  67500 | 1107 | FALSE |\n",
       "| Mainline Prot           |  87500 |  939 | FALSE |\n",
       "| Mainline Prot           | 125000 |  753 | FALSE |\n",
       "| Mainline Prot           | 150000 |  634 | FALSE |\n",
       "| Unaffiliated            |   5000 |  217 | FALSE |\n",
       "| Unaffiliated            |  15000 |  299 | FALSE |\n",
       "| Unaffiliated            |  25000 |  374 | FALSE |\n",
       "| Unaffiliated            |  35000 |  365 | FALSE |\n",
       "| Unaffiliated            |  45000 |  341 | FALSE |\n",
       "| Unaffiliated            |  67500 |  528 | FALSE |\n",
       "| Unaffiliated            |  87500 |  407 | FALSE |\n",
       "| Unaffiliated            | 125000 |  321 | FALSE |\n",
       "| Unaffiliated            | 150000 |  258 | FALSE |\n",
       "\n"
      ],
      "text/plain": [
       "   religion                amount count isRichest\n",
       "1  Agnostic                  5000   27  FALSE    \n",
       "2  Agnostic                 15000   34  FALSE    \n",
       "3  Agnostic                 25000   60  FALSE    \n",
       "4  Agnostic                 35000   81  FALSE    \n",
       "5  Agnostic                 45000   76  FALSE    \n",
       "6  Agnostic                 67500  137  FALSE    \n",
       "7  Agnostic                 87500  122  FALSE    \n",
       "8  Agnostic                125000  109  FALSE    \n",
       "9  Agnostic                150000   84  FALSE    \n",
       "10 Catholic                  5000  418  FALSE    \n",
       "11 Catholic                 15000  617  FALSE    \n",
       "12 Catholic                 25000  732  FALSE    \n",
       "13 Catholic                 35000  670  FALSE    \n",
       "14 Catholic                 45000  638  FALSE    \n",
       "15 Catholic                 67500 1116  FALSE    \n",
       "16 Catholic                 87500  949  FALSE    \n",
       "17 Catholic                125000  792  FALSE    \n",
       "18 Catholic                150000  633  FALSE    \n",
       "19 Evangelical Prot          5000  575   TRUE    \n",
       "20 Evangelical Prot         15000  869   TRUE    \n",
       "21 Evangelical Prot         25000 1064   TRUE    \n",
       "22 Evangelical Prot         35000  982   TRUE    \n",
       "23 Evangelical Prot         45000  881   TRUE    \n",
       "24 Evangelical Prot         67500 1486   TRUE    \n",
       "25 Evangelical Prot         87500  949   TRUE    \n",
       "26 Evangelical Prot        125000  723   TRUE    \n",
       "27 Evangelical Prot        150000  414   TRUE    \n",
       "28 Historically Black Prot   5000  228  FALSE    \n",
       "29 Historically Black Prot  15000  244  FALSE    \n",
       "30 Historically Black Prot  25000  236  FALSE    \n",
       "31 Historically Black Prot  35000  238  FALSE    \n",
       "32 Historically Black Prot  45000  197  FALSE    \n",
       "33 Historically Black Prot  67500  223  FALSE    \n",
       "34 Historically Black Prot  87500  131  FALSE    \n",
       "35 Historically Black Prot 125000   81  FALSE    \n",
       "36 Historically Black Prot 150000   78  FALSE    \n",
       "37 Mainline Prot             5000  289  FALSE    \n",
       "38 Mainline Prot            15000  495  FALSE    \n",
       "39 Mainline Prot            25000  619  FALSE    \n",
       "40 Mainline Prot            35000  655  FALSE    \n",
       "41 Mainline Prot            45000  651  FALSE    \n",
       "42 Mainline Prot            67500 1107  FALSE    \n",
       "43 Mainline Prot            87500  939  FALSE    \n",
       "44 Mainline Prot           125000  753  FALSE    \n",
       "45 Mainline Prot           150000  634  FALSE    \n",
       "46 Unaffiliated              5000  217  FALSE    \n",
       "47 Unaffiliated             15000  299  FALSE    \n",
       "48 Unaffiliated             25000  374  FALSE    \n",
       "49 Unaffiliated             35000  365  FALSE    \n",
       "50 Unaffiliated             45000  341  FALSE    \n",
       "51 Unaffiliated             67500  528  FALSE    \n",
       "52 Unaffiliated             87500  407  FALSE    \n",
       "53 Unaffiliated            125000  321  FALSE    \n",
       "54 Unaffiliated            150000  258  FALSE    "
      ]
     },
     "metadata": {},
     "output_type": "display_data"
    }
   ],
   "source": [
    "pdf <- pdf %>% mutate(isRichest=(religion==\"Evangelical Prot\"))\n",
    "pdf"
   ]
  },
  {
   "cell_type": "code",
   "execution_count": 148,
   "id": "dc8b4f8c",
   "metadata": {},
   "outputs": [
    {
     "data": {
      "image/png": "[encoded data removed]",
      "text/plain": [
       "plot without title"
      ]
     },
     "metadata": {
      "image/png": {
       "height": 420,
       "width": 420
      }
     },
     "output_type": "display_data"
    }
   ],
   "source": [
    "# change line types, remove legend and change text style\n",
    "ggplot(pdf, aes(x=amount, y=count, color=religion, group=religion)) + geom_line(aes(linetype=isRichest),linewidth=1.5, alpha = 0.8) +\n",
    "labs(\n",
    "    title=\"Annual Church Income\",\n",
    "    subtitle=\"What religion earns the most money?\",\n",
    "    x=\"Yearly income (USD$)\",\n",
    "    y=\"Number of religious institutions\",\n",
    "    color = \"Religion\"\n",
    ") + theme_fivethirtyeight() + \n",
    "theme(\n",
    "    axis.title = element_text(),\n",
    "    legend.title = element_text(color = \"blue\", size = 14),\n",
    "    legend.text = element_text(color = \"black\", size = 12),) +\n",
    "scale_linetype_manual(values = c(\"dashed\", \"solid\"), guide = \"none\")\n"
   ]
  }
 ],
 "metadata": {
  "kernelspec": {
   "display_name": "R",
   "language": "R",
   "name": "ir"
  },
  "language_info": {
   "codemirror_mode": "r",
   "file_extension": ".r",
   "mimetype": "text/x-r-source",
   "name": "R",
   "pygments_lexer": "r",
   "version": "4.2.2"
  }
 },
 "nbformat": 4,
 "nbformat_minor": 5
}
