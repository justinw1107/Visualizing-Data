{
 "cells": [
  {
   "cell_type": "markdown",
   "metadata": {},
   "source": [
    "# Visualising animation and interactivity\n",
    "\n",
    "This notebook explores the use of time-transition animation and streamgraphs."
   ]
  },
  {
   "cell_type": "code",
   "execution_count": 2,
   "metadata": {},
   "outputs": [
    {
     "name": "stderr",
     "output_type": "stream",
     "text": [
      "Warning message:\n",
      "\"package 'streamgraph' is not available for this version of R\n",
      "\n",
      "A version of this package for your version of R might be available elsewhere,\n",
      "see the ideas at\n",
      "https://cran.r-project.org/doc/manuals/r-patched/R-admin.html#Installing-packages\"\n"
     ]
    },
    {
     "ename": "ERROR",
     "evalue": "Error in library(streamgraph): there is no package called 'streamgraph'\n",
     "output_type": "error",
     "traceback": [
      "Error in library(streamgraph): there is no package called 'streamgraph'\nTraceback:\n",
      "1. library(streamgraph)"
     ]
    }
   ],
   "source": [
    "install.packages(\"streamgraph\")\n",
    "library(tidyverse)\n",
    "library(gganimate)\n",
    "library(streamgraph)"
   ]
  },
  {
   "cell_type": "markdown",
   "metadata": {},
   "source": [
    "### We will use:\n",
    "- Handling multiple dimensions over time\n",
    "    - Stream Graph\n",
    "    - Animation"
   ]
  },
  {
   "cell_type": "code",
   "execution_count": null,
   "metadata": {},
   "outputs": [],
   "source": [
    "mydata = file.path(\"C:\",\"Users\",\"025312\",\"Dropbox\",\"City\",\"pobyrne\",\"Contents\",\"Datasets\")\n",
    "datapath = file.path(mydata,\"seaice.csv\")\n",
    "df <- read.csv(datapath)\n",
    "str(df)"
   ]
  },
  {
   "cell_type": "code",
   "execution_count": null,
   "metadata": {},
   "outputs": [],
   "source": [
    "df <- subset(df, select= (-c(Source.Data)))"
   ]
  },
  {
   "cell_type": "code",
   "execution_count": null,
   "metadata": {},
   "outputs": [],
   "source": [
    "head(df)"
   ]
  },
  {
   "cell_type": "code",
   "execution_count": null,
   "metadata": {},
   "outputs": [],
   "source": [
    "df <- \n",
    "df %>%\n",
    "group_by(Year, Month, hemisphere) %>%\n",
    "summarise_at (vars(Extent), list(Monthly_Extent=sum))\n",
    "dfice <- df"
   ]
  },
  {
   "cell_type": "code",
   "execution_count": null,
   "metadata": {},
   "outputs": [],
   "source": [
    "head(dfice)"
   ]
  },
  {
   "cell_type": "code",
   "execution_count": null,
   "metadata": {},
   "outputs": [],
   "source": [
    "unique(df$hemisphere)\n",
    "unique(df$Year)\n",
    "unique(df$Month)"
   ]
  },
  {
   "cell_type": "code",
   "execution_count": null,
   "metadata": {},
   "outputs": [],
   "source": [
    "p <- ggplot(dfice[dfice$Year==1979,], aes(x=Month, y= Monthly_Extent, color=hemisphere)) + geom_line(linewidth=2) + theme_bw() + \n",
    "scale_x_continuous(breaks=c(1,2,3,4,5,6,7,8,9,10,11,12)) +\n",
    "labs(x = \"Month\", y = \"Ice Extent\")\n",
    "p\n"
   ]
  },
  {
   "cell_type": "code",
   "execution_count": null,
   "metadata": {},
   "outputs": [],
   "source": [
    "head(dfice)"
   ]
  },
  {
   "cell_type": "code",
   "execution_count": null,
   "metadata": {},
   "outputs": [],
   "source": [
    "colnames(dfice)\n",
    "unique(df$hemisphere)"
   ]
  },
  {
   "cell_type": "code",
   "execution_count": null,
   "metadata": {},
   "outputs": [],
   "source": [
    "head(dfice[dfice$Year==1980,],2)"
   ]
  },
  {
   "cell_type": "code",
   "execution_count": null,
   "metadata": {},
   "outputs": [],
   "source": [
    "options(repr.plot.width=12,repr.plot.height=6)\n",
    "ggplot(dfice, aes(x = Month, y = Monthly_Extent,  color=hemisphere, size=2))+theme_bw() +\n",
    " geom_point(aes(size=2))+\n",
    " guides(size = FALSE)+  \n",
    " labs(subtitle = 'Year: {frame_time}',\n",
    "       title = 'Sea Ice Extents',\n",
    "       x = 'Month', y = 'Ice Extent (10^6 sq km)',  fill='hemisphere')+\n",
    "  transition_time(Year) +\n",
    "scale_x_continuous(breaks=c(1,2,3,4,5,6,7,8,9,10,11,12)) \n",
    "\n",
    "anim_save(\"GP5.gif\", animation = last_animation())\n",
    "display_gif <- function(raw){\n",
    "    contents <- base64enc::base64encode(raw)\n",
    "    tag <- '<img src=\"data:image/gif;base64,%s\">'\n",
    "    IRdisplay::display_html(sprintf(tag, contents))\n",
    "}\n",
    "display_gif(\"GP5.gif\")"
   ]
  },
  {
   "cell_type": "markdown",
   "metadata": {},
   "source": [
    "# Interactive stream graphs\n",
    "\n",
    " R has a tool and a htmlwidget that allows interactive use of streamgraphs using the babynames dataset.\n",
    " \n",
    " Importantly, this dataset has zero or one entries per name per year, giving the number of children registered with that name.  Streamgraph uses the time (year) on the x-axis, the count (n) on the y-axis (i.e. width, or wt) and uses stacked area colours to show the names.  The filter allows the programmer to specify a range of, in this case, names.  A pop-up box allows the user to select one of the names in the range and this name is highlighted."
   ]
  },
  {
   "cell_type": "code",
   "execution_count": null,
   "metadata": {},
   "outputs": [],
   "source": [
    "#install.packages(\"babynames\")\n",
    "library(babynames)"
   ]
  },
  {
   "cell_type": "code",
   "execution_count": null,
   "metadata": {},
   "outputs": [],
   "source": [
    "str(babynames)"
   ]
  },
  {
   "cell_type": "code",
   "execution_count": null,
   "metadata": {},
   "outputs": [],
   "source": [
    "babynames %>%\n",
    "  filter(grepl(\"^Pat\", name)) %>%\n",
    "  group_by(year, name) %>%\n",
    "  tally(wt=n) %>%\n",
    "  streamgraph(\"name\", \"n\", \"year\", offset=\"zero\", interpolate=\"linear\") %>%\n",
    "  sg_legend(show=TRUE, label=\"Pat - names: \")"
   ]
  },
  {
   "cell_type": "markdown",
   "metadata": {},
   "source": [
    "### Using ggstream\n",
    "\n",
    "ggstream is a package that allows the user to do static stream charts, which are easier to interpret when there is no possibility for interacting.  The following charts took lists of popular names from 1950, 1980 and 2023.  In each case, the graph is followed by one generated through streamgraph."
   ]
  },
  {
   "cell_type": "code",
   "execution_count": null,
   "metadata": {},
   "outputs": [],
   "source": []
  },
  {
   "cell_type": "code",
   "execution_count": null,
   "metadata": {},
   "outputs": [],
   "source": [
    "list1950 <- c(\"Linda\",\"James\",\"Mary\",\"Robert\",\"Patricia\",\"John\",\"Barbara\",\"Michael\",\"Susan\",\"David\")\n",
    "\n",
    "names1950s <- babynames[babynames$name %in% list1950,]\n",
    "names1950s <-names1950s %>%\n",
    "group_by(name,year) %>%\n",
    "summarise_at(vars(n), list(total=sum))\n",
    "#head(names1950s)\n",
    "ggplot (names1950s, aes(x=year, y=total, fill=name)) + geom_stream()"
   ]
  },
  {
   "cell_type": "code",
   "execution_count": null,
   "metadata": {},
   "outputs": [],
   "source": [
    "\n",
    "names1950s%>% \n",
    "  streamgraph(key=\"name\", value=\"total\", date=\"year\") %>%\n",
    "  sg_fill_brewer(\"PuOr\")\n"
   ]
  },
  {
   "cell_type": "code",
   "execution_count": null,
   "metadata": {},
   "outputs": [],
   "source": [
    "list1990 <- c(\"Michael\", \"Jessica\", \"Christopher\", \"Ashley\", \"Matthew\", \"Emily\", \"Joshua\", \"Sarah\", \"Jacob\", \"Samantha\")\n",
    "names1990s <- babynames[babynames$name %in% list1990,]\n",
    "names1990s <-names1990s %>%\n",
    "group_by(name,year) %>%\n",
    "summarise_at(vars(n), list(total=sum))\n",
    "#head(names1990s)\n",
    "names1990s%>% \n",
    "  streamgraph(key=\"name\", value=\"total\", date=\"year\") %>%\n",
    "  sg_fill_brewer(\"PuOr\")"
   ]
  },
  {
   "cell_type": "code",
   "execution_count": null,
   "metadata": {},
   "outputs": [],
   "source": [
    "ggplot (names1990s, aes(x=year, y=total, fill=name)) + geom_stream()"
   ]
  },
  {
   "cell_type": "code",
   "execution_count": null,
   "metadata": {},
   "outputs": [],
   "source": [
    "\n",
    "list2023 <- c(\"Luxury\", \"Maeve\", \"Aurelia\", \"Isla\", \"Luna\", \"Kylian\", \"Theodore\", \"Atticus\", \"Felix\", \"Silas\")\n",
    "names2023 <- babynames[babynames$name %in% list2023,]\n",
    "names2023 <-names2023 %>%\n",
    "group_by(name,year) %>%\n",
    "summarise_at(vars(n), list(total=sum))\n",
    "#head(names2023)\n",
    "ggplot (names2023, aes(x=year, y=total, fill=name)) + geom_stream()"
   ]
  },
  {
   "cell_type": "code",
   "execution_count": null,
   "metadata": {},
   "outputs": [],
   "source": [
    "names2023%>% \n",
    "  streamgraph(key=\"name\", value=\"total\", date=\"year\") %>%\n",
    "  sg_fill_brewer(\"PuOr\")"
   ]
  }
 ],
 "metadata": {
  "kernelspec": {
   "display_name": "R",
   "language": "R",
   "name": "ir"
  },
  "language_info": {
   "codemirror_mode": "r",
   "file_extension": ".r",
   "mimetype": "text/x-r-source",
   "name": "R",
   "pygments_lexer": "r",
   "version": "4.2.2"
  }
 },
 "nbformat": 4,
 "nbformat_minor": 4
}
