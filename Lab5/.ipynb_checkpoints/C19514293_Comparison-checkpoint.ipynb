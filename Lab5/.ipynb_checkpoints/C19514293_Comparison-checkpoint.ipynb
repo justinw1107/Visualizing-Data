{
 "cells": [
  {
   "cell_type": "markdown",
   "metadata": {},
   "source": [
    "# 5.  Comparison"
   ]
  },
  {
   "cell_type": "code",
   "execution_count": 1,
   "metadata": {},
   "outputs": [
    {
     "name": "stderr",
     "output_type": "stream",
     "text": [
      "Registered S3 method overwritten by 'quantmod':\n",
      "  method            from\n",
      "  as.zoo.data.frame zoo \n",
      "\n",
      "── \u001b[1mAttaching packages\u001b[22m ─────────────────────────────────────────────────────────────────────────────── tidyverse 1.3.2 ──\n",
      "\u001b[32m✔\u001b[39m \u001b[34mggplot2\u001b[39m 3.4.0     \u001b[32m✔\u001b[39m \u001b[34mpurrr  \u001b[39m 1.0.1\n",
      "\u001b[32m✔\u001b[39m \u001b[34mtibble \u001b[39m 3.1.8     \u001b[32m✔\u001b[39m \u001b[34mdplyr  \u001b[39m 1.1.0\n",
      "\u001b[32m✔\u001b[39m \u001b[34mtidyr  \u001b[39m 1.3.0     \u001b[32m✔\u001b[39m \u001b[34mstringr\u001b[39m 1.5.0\n",
      "\u001b[32m✔\u001b[39m \u001b[34mreadr  \u001b[39m 2.1.3     \u001b[32m✔\u001b[39m \u001b[34mforcats\u001b[39m 1.0.0\n",
      "── \u001b[1mConflicts\u001b[22m ────────────────────────────────────────────────────────────────────────────────── tidyverse_conflicts() ──\n",
      "\u001b[31m✖\u001b[39m \u001b[34mdplyr\u001b[39m::\u001b[32mfilter()\u001b[39m masks \u001b[34mstats\u001b[39m::filter()\n",
      "\u001b[31m✖\u001b[39m \u001b[34mdplyr\u001b[39m::\u001b[32mlag()\u001b[39m    masks \u001b[34mstats\u001b[39m::lag()\n"
     ]
    }
   ],
   "source": [
    "# install.packages(\"treemap\")\n",
    "# install.packages(\"reshape2\")\n",
    "# install.packages(\"highcharter\")\n",
    "\n",
    "library(highcharter)\n",
    "library(reshape2)\n",
    "library(tidyverse)\n",
    "library(treemap)"
   ]
  },
  {
   "cell_type": "markdown",
   "metadata": {},
   "source": [
    "# Part one:\n",
    "\n",
    " - Find a dataset with categorical and numeric data - e.g.:\n",
    "     - airports.csv \n",
    "     - movies.csv or\n",
    "     - vgsales.csv\n",
    " - Ensure that it is suitable for representing as a histogram and a box plot.\n",
    " - Generate:\n",
    "     - a histogram and a box plot.\n",
    "     - a bar chart comparing sets of values"
   ]
  },
  {
   "cell_type": "code",
   "execution_count": 2,
   "metadata": {},
   "outputs": [],
   "source": [
    "mydata = file.path(\"C:\",\"Users\",\"thehd\",\"OneDrive\",\"College\",\"YEAR_4\",\"Visualizing_Data\",\"Labwork\",\"VisDataLab5\")\n",
    "datapath = file.path(mydata, \"vgsales.csv\")\n",
    "\n",
    "vgs <- read.csv(datapath)"
   ]
  },
  {
   "cell_type": "code",
   "execution_count": 3,
   "metadata": {},
   "outputs": [
    {
     "name": "stderr",
     "output_type": "stream",
     "text": [
      "Warning message in eval(expr, envir, enclos):\n",
      "\"NAs introduced by coercion\"\n"
     ]
    }
   ],
   "source": [
    "# Year is of type chr, so we change it to int\n",
    "vgs$Year <- as.integer(vgs$Year)\n",
    "\n",
    "# remove rows with NA values in Year column\n",
    "vgs  <- vgs[!is.na(vgs$Year),]\n",
    "\n",
    "# removing unwanted field Rank\n",
    "vgs = subset(vgs, select = -c(Rank))"
   ]
  },
  {
   "cell_type": "code",
   "execution_count": 4,
   "metadata": {},
   "outputs": [
    {
     "data": {
      "text/plain": [
       "     Name             Platform              Year         Genre          \n",
       " Length:16327       Length:16327       Min.   :1980   Length:16327      \n",
       " Class :character   Class :character   1st Qu.:2003   Class :character  \n",
       " Mode  :character   Mode  :character   Median :2007   Mode  :character  \n",
       "                                       Mean   :2006                     \n",
       "                                       3rd Qu.:2010                     \n",
       "                                       Max.   :2020                     \n",
       "  Publisher            NA_Sales          EU_Sales          JP_Sales       \n",
       " Length:16327       Min.   : 0.0000   Min.   : 0.0000   Min.   : 0.00000  \n",
       " Class :character   1st Qu.: 0.0000   1st Qu.: 0.0000   1st Qu.: 0.00000  \n",
       " Mode  :character   Median : 0.0800   Median : 0.0200   Median : 0.00000  \n",
       "                    Mean   : 0.2654   Mean   : 0.1476   Mean   : 0.07866  \n",
       "                    3rd Qu.: 0.2400   3rd Qu.: 0.1100   3rd Qu.: 0.04000  \n",
       "                    Max.   :41.4900   Max.   :29.0200   Max.   :10.22000  \n",
       "  Other_Sales        Global_Sales    \n",
       " Min.   : 0.00000   Min.   : 0.0100  \n",
       " 1st Qu.: 0.00000   1st Qu.: 0.0600  \n",
       " Median : 0.01000   Median : 0.1700  \n",
       " Mean   : 0.04832   Mean   : 0.5402  \n",
       " 3rd Qu.: 0.04000   3rd Qu.: 0.4800  \n",
       " Max.   :10.57000   Max.   :82.7400  "
      ]
     },
     "metadata": {},
     "output_type": "display_data"
    }
   ],
   "source": [
    "summary(vgs)"
   ]
  },
  {
   "cell_type": "code",
   "execution_count": 18,
   "metadata": {},
   "outputs": [
    {
     "data": {
      "image/png": "[encoded data removed]",
      "text/plain": [
       "plot without title"
      ]
     },
     "metadata": {
      "image/png": {
       "height": 420,
       "width": 420
      }
     },
     "output_type": "display_data"
    }
   ],
   "source": [
    "hist <- ggplot(vgs, aes(x=Year, na.rm = TRUE)) +\n",
    "    geom_histogram(bins=40, fill = \"yellow\", color = \"black\", aes(y=..density..)) +\n",
    "    geom_density(col=\"magenta\", linewidth=2) + theme_bw() +\n",
    "    theme(legend.position='none')\n",
    "hist"
   ]
  },
  {
   "cell_type": "code",
   "execution_count": 6,
   "metadata": {},
   "outputs": [
    {
     "data": {
      "image/png": "[encoded data removed]",
      "text/plain": [
       "plot without title"
      ]
     },
     "metadata": {
      "image/png": {
       "height": 420,
       "width": 420
      }
     },
     "output_type": "display_data"
    }
   ],
   "source": [
    "bar <- ggplot(vgs, aes(x=Genre, y=Year)) +\n",
    "    geom_boxplot(fill=\"slateblue\", alpha=0.2)\n",
    "bar"
   ]
  },
  {
   "cell_type": "code",
   "execution_count": 7,
   "metadata": {},
   "outputs": [
    {
     "data": {
      "image/png": "[encoded data removed]",
      "text/plain": [
       "plot without title"
      ]
     },
     "metadata": {
      "image/png": {
       "height": 420,
       "width": 420
      }
     },
     "output_type": "display_data"
    }
   ],
   "source": [
    "# I used this example to demonstrate a side by side bar chart\n",
    "# https://stackoverflow.com/questions/21349329/drawing-a-barchart-to-compare-two-sets-of-data-using-ggplot2-package\n",
    "\n",
    "\n",
    "\n",
    "s2s <- data.frame(vgs$Year, vgs$EU_Sales, vgs$NA_Sales)\n",
    "\n",
    "s2slong <- melt(s2s, id=c(\"vgs.Year\"))\n",
    "\n",
    "ggplot(s2slong) +\n",
    "geom_bar(aes(x=vgs.Year, y=value, fill=variable), stat=\"identity\", position = \"dodge\", width = 0.7) +\n",
    "    scale_fill_manual(\"\\n\", values =c(\"red\", \"blue\"), labels = c(\"European Sales\", \"North American Sales\")) +\n",
    "labs(x=\"\\nYear\", y=\"Count ($million)\\n\")+\n",
    "theme_bw(base_size = 14)\n",
    "\n",
    "# s2sbar <- ggplot(vgs, aes(x= y=Year, fill = Global_Sales)) +\n",
    "#     geom_bar(stat = \"identity\", position = \"dodge\", color = \"grey40\")\n",
    "# s2sbar"
   ]
  },
  {
   "cell_type": "markdown",
   "metadata": {},
   "source": [
    "# Part Two:\n",
    " - Use a hierarchical dataset\n",
    "     - sample superstore (in Datasets folder),\n",
    "     - Pokemon data set \n",
    "         -install.packages(\"highcharter\")\n",
    "         - data(\"pokemon\", package = \"highcharter\")\n",
    "     - world population dataset (https://www.kaggle.com/datasets/iamsouravbanerjee/world-population-dataset)\n",
    " - make a treemap\n",
    "     - Decide on the hierarchy\n",
    "     - Reduce your dataset to just those COLUMNS!!!\n",
    "     - Summarise it to add a count of the number of rows for that combination\n",
    "     Make your treemap.  (if it's not visible, you can cut down on the rows).\n",
    "                "
   ]
  },
  {
   "cell_type": "code",
   "execution_count": 8,
   "metadata": {},
   "outputs": [],
   "source": [
    "datapath2 = file.path(mydata, \"superstore_orders.csv\")\n",
    "\n",
    "sups <- read.csv(datapath2)"
   ]
  },
  {
   "cell_type": "code",
   "execution_count": 9,
   "metadata": {},
   "outputs": [
    {
     "data": {
      "text/plain": [
       "     Row.ID       Order.ID          Order.Date         Ship.Date        \n",
       " Min.   :   1   Length:9994        Length:9994        Length:9994       \n",
       " 1st Qu.:2499   Class :character   Class :character   Class :character  \n",
       " Median :4998   Mode  :character   Mode  :character   Mode  :character  \n",
       " Mean   :4998                                                           \n",
       " 3rd Qu.:7496                                                           \n",
       " Max.   :9994                                                           \n",
       "  Ship.Mode         Customer.ID        Customer.Name        Segment         \n",
       " Length:9994        Length:9994        Length:9994        Length:9994       \n",
       " Class :character   Class :character   Class :character   Class :character  \n",
       " Mode  :character   Mode  :character   Mode  :character   Mode  :character  \n",
       "                                                                            \n",
       "                                                                            \n",
       "                                                                            \n",
       "   Country              City              State            Postal.Code   \n",
       " Length:9994        Length:9994        Length:9994        Min.   : 1040  \n",
       " Class :character   Class :character   Class :character   1st Qu.:23223  \n",
       " Mode  :character   Mode  :character   Mode  :character   Median :56431  \n",
       "                                                          Mean   :55190  \n",
       "                                                          3rd Qu.:90008  \n",
       "                                                          Max.   :99301  \n",
       "    Region           Product.ID          Category         Sub.Category      \n",
       " Length:9994        Length:9994        Length:9994        Length:9994       \n",
       " Class :character   Class :character   Class :character   Class :character  \n",
       " Mode  :character   Mode  :character   Mode  :character   Mode  :character  \n",
       "                                                                            \n",
       "                                                                            \n",
       "                                                                            \n",
       " Product.Name           Sales              Quantity        Discount     \n",
       " Length:9994        Min.   :    0.444   Min.   : 1.00   Min.   :0.0000  \n",
       " Class :character   1st Qu.:   17.280   1st Qu.: 2.00   1st Qu.:0.0000  \n",
       " Mode  :character   Median :   54.490   Median : 3.00   Median :0.2000  \n",
       "                    Mean   :  229.858   Mean   : 3.79   Mean   :0.1562  \n",
       "                    3rd Qu.:  209.940   3rd Qu.: 5.00   3rd Qu.:0.2000  \n",
       "                    Max.   :22638.480   Max.   :14.00   Max.   :0.8000  \n",
       "     Profit         \n",
       " Min.   :-6599.978  \n",
       " 1st Qu.:    1.729  \n",
       " Median :    8.666  \n",
       " Mean   :   28.657  \n",
       " 3rd Qu.:   29.364  \n",
       " Max.   : 8399.976  "
      ]
     },
     "metadata": {},
     "output_type": "display_data"
    }
   ],
   "source": [
    "summary(sups)"
   ]
  },
  {
   "cell_type": "code",
   "execution_count": 10,
   "metadata": {},
   "outputs": [
    {
     "name": "stderr",
     "output_type": "stream",
     "text": [
      "\u001b[1m\u001b[22m`summarise()` has grouped output by 'sups.Ship.Mode'. You can override using the `.groups` argument.\n"
     ]
    },
    {
     "data": {
      "image/png": "[encoded data removed]",
      "text/plain": [
       "plot without title"
      ]
     },
     "metadata": {
      "image/png": {
       "height": 420,
       "width": 420
      }
     },
     "output_type": "display_data"
    }
   ],
   "source": [
    "supsclass <- data.frame(sups$Ship.Mode, sups$Quantity, sups$Category)\n",
    "aggsups <- supsclass %>% \n",
    "    group_by(sups.Ship.Mode, sups.Category) %>%\n",
    "        summarise(Sum.sups.Quantity = sum(sups.Quantity))\n",
    "\n",
    "treemap(aggsups, index=c(\"sups.Ship.Mode\", \"sups.Category\"),\n",
    "       vSize=\"Sum.sups.Quantity\")"
   ]
  },
  {
   "cell_type": "markdown",
   "metadata": {},
   "source": [
    "# Part Three:\n",
    "Refer to the notes from week 4.\n",
    "- Enhance and evaluate one of your charts in terms of Gestalt"
   ]
  },
  {
   "cell_type": "code",
   "execution_count": 11,
   "metadata": {},
   "outputs": [],
   "source": [
    "mydata2 = file.path(\"C:\",\"Users\",\"thehd\",\"OneDrive\",\"College\",\"YEAR_4\",\"Visualizing_Data\",\"Labwork\",\"VisDataLab4\")\n",
    "datapath3 = file.path(mydata2, \"mly2615.csv\")\n",
    "\n",
    "mly <- read.csv(datapath3, skip=13)"
   ]
  },
  {
   "cell_type": "code",
   "execution_count": 12,
   "metadata": {},
   "outputs": [
    {
     "data": {
      "text/html": [
       "<table class=\"dataframe\">\n",
       "<caption>A data.frame: 1 × 7</caption>\n",
       "<thead>\n",
       "\t<tr><th scope=col>year</th><th scope=col>month</th><th scope=col>ind</th><th scope=col>rain</th><th scope=col>gdf</th><th scope=col>rd</th><th scope=col>wd</th></tr>\n",
       "\t<tr><th scope=col>&lt;int&gt;</th><th scope=col>&lt;int&gt;</th><th scope=col>&lt;int&gt;</th><th scope=col>&lt;int&gt;</th><th scope=col>&lt;int&gt;</th><th scope=col>&lt;int&gt;</th><th scope=col>&lt;int&gt;</th></tr>\n",
       "</thead>\n",
       "<tbody>\n",
       "\t<tr><td>53</td><td>12</td><td>3</td><td>502</td><td>289</td><td>27</td><td>25</td></tr>\n",
       "</tbody>\n",
       "</table>\n"
      ],
      "text/latex": [
       "A data.frame: 1 × 7\n",
       "\\begin{tabular}{lllllll}\n",
       " year & month & ind & rain & gdf & rd & wd\\\\\n",
       " <int> & <int> & <int> & <int> & <int> & <int> & <int>\\\\\n",
       "\\hline\n",
       "\t 53 & 12 & 3 & 502 & 289 & 27 & 25\\\\\n",
       "\\end{tabular}\n"
      ],
      "text/markdown": [
       "\n",
       "A data.frame: 1 × 7\n",
       "\n",
       "| year &lt;int&gt; | month &lt;int&gt; | ind &lt;int&gt; | rain &lt;int&gt; | gdf &lt;int&gt; | rd &lt;int&gt; | wd &lt;int&gt; |\n",
       "|---|---|---|---|---|---|---|\n",
       "| 53 | 12 | 3 | 502 | 289 | 27 | 25 |\n",
       "\n"
      ],
      "text/plain": [
       "  year month ind rain gdf rd wd\n",
       "1 53   12    3   502  289 27 25"
      ]
     },
     "metadata": {},
     "output_type": "display_data"
    }
   ],
   "source": [
    "# removing rows that contain no values for rain, gdf, rd or wf\n",
    "mly <- mly %>% filter(!row_number() %in% c(1,2,3,4,5,6,7,8,9,10,11))\n",
    "\n",
    "# str(mly)\n",
    "# summary(mly)\n",
    "mly %>% summarise_all(n_distinct)"
   ]
  },
  {
   "cell_type": "code",
   "execution_count": 13,
   "metadata": {},
   "outputs": [
    {
     "data": {
      "image/png": "[encoded data removed]",
      "text/plain": [
       "plot without title"
      ]
     },
     "metadata": {
      "image/png": {
       "height": 420,
       "width": 420
      }
     },
     "output_type": "display_data"
    }
   ],
   "source": [
    "# before\n",
    "first_chart <- ggplot(mly[mly$year==1957,], aes(x=month, y=rain)) +\n",
    "geom_line(stat=\"identity\")\n",
    "\n",
    "first_chart"
   ]
  },
  {
   "cell_type": "code",
   "execution_count": 14,
   "metadata": {},
   "outputs": [
    {
     "data": {
      "image/png": "[encoded data removed]",
      "text/plain": [
       "plot without title"
      ]
     },
     "metadata": {
      "image/png": {
       "height": 420,
       "width": 420
      }
     },
     "output_type": "display_data"
    }
   ],
   "source": [
    "# After\n",
    "\n",
    "first_chart <- ggplot(mly[mly$year==1957,], aes(x=month, y=rain)) +\n",
    "geom_line(stat=\"identity\", linewidth=1.5) + geom_point(size=4, color=\"blue\")\n",
    "\n",
    "first_chart"
   ]
  }
 ],
 "metadata": {
  "kernelspec": {
   "display_name": "R",
   "language": "R",
   "name": "ir"
  },
  "language_info": {
   "codemirror_mode": "r",
   "file_extension": ".r",
   "mimetype": "text/x-r-source",
   "name": "R",
   "pygments_lexer": "r",
   "version": "4.2.2"
  }
 },
 "nbformat": 4,
 "nbformat_minor": 4
}
